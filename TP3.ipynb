{
 "cells": [
  {
   "cell_type": "code",
   "execution_count": 4,
   "metadata": {
    "scrolled": false
   },
   "outputs": [
    {
     "name": "stderr",
     "output_type": "stream",
     "text": [
      "[nltk_data] Downloading package stopwords to\n",
      "[nltk_data]     C:\\Users\\second\\AppData\\Roaming\\nltk_data...\n",
      "[nltk_data]   Package stopwords is already up-to-date!\n",
      "[nltk_data] Downloading package wordnet to\n",
      "[nltk_data]     C:\\Users\\second\\AppData\\Roaming\\nltk_data...\n",
      "[nltk_data]   Package wordnet is already up-to-date!\n"
     ]
    }
   ],
   "source": [
    "import warnings\n",
    "warnings.filterwarnings(\"ignore\") \n",
    "\n",
    "import numpy as np\n",
    "import pandas as pd\n",
    "\n",
    "import nltk    #Natural language processing tool-kit\n",
    "nltk.download('stopwords')\n",
    "nltk.download('wordnet')\n",
    "  \n",
    "from nltk.corpus import stopwords                   #Stopwords corpus\n",
    "\n",
    "from keras.datasets import imdb\n",
    "import matplotlib.pyplot as plt\n",
    "%matplotlib inline\n",
    "import seaborn as sns\n",
    "\n",
    "from sklearn.feature_extraction.text import CountVectorizer\n",
    "from sklearn.feature_extraction.text import TfidfVectorizer,TfidfTransformer\n",
    "from sklearn.neighbors import KNeighborsClassifier\n",
    "from sklearn.naive_bayes import MultinomialNB, GaussianNB\n",
    "from sklearn.linear_model import SGDClassifier\n",
    "from sklearn.metrics import accuracy_score"
   ]
  },
  {
   "cell_type": "markdown",
   "metadata": {},
   "source": [
    "## Import des données"
   ]
  },
  {
   "cell_type": "code",
   "execution_count": 5,
   "metadata": {},
   "outputs": [
    {
     "name": "stdout",
     "output_type": "stream",
     "text": [
      "shape (747, 2)\n"
     ]
    }
   ],
   "source": [
    "filename = \"./sentiment_labelled_sentences/imdb_labelled.txt\"\n",
    "\n",
    "df = pd.read_csv(filename, sep=\"\\t\")\n",
    "df.columns = [\"sentence\", \"label\"]\n",
    "\n",
    "print(\"shape\", df.shape)"
   ]
  },
  {
   "cell_type": "code",
   "execution_count": 6,
   "metadata": {},
   "outputs": [
    {
     "data": {
      "text/html": [
       "<div>\n",
       "<style scoped>\n",
       "    .dataframe tbody tr th:only-of-type {\n",
       "        vertical-align: middle;\n",
       "    }\n",
       "\n",
       "    .dataframe tbody tr th {\n",
       "        vertical-align: top;\n",
       "    }\n",
       "\n",
       "    .dataframe thead th {\n",
       "        text-align: right;\n",
       "    }\n",
       "</style>\n",
       "<table border=\"1\" class=\"dataframe\">\n",
       "  <thead>\n",
       "    <tr style=\"text-align: right;\">\n",
       "      <th></th>\n",
       "      <th>sentence</th>\n",
       "      <th>label</th>\n",
       "    </tr>\n",
       "  </thead>\n",
       "  <tbody>\n",
       "    <tr>\n",
       "      <th>0</th>\n",
       "      <td>Not sure who was more lost - the flat characte...</td>\n",
       "      <td>0</td>\n",
       "    </tr>\n",
       "    <tr>\n",
       "      <th>1</th>\n",
       "      <td>Attempting artiness with black &amp; white and cle...</td>\n",
       "      <td>0</td>\n",
       "    </tr>\n",
       "    <tr>\n",
       "      <th>2</th>\n",
       "      <td>Very little music or anything to speak of.</td>\n",
       "      <td>0</td>\n",
       "    </tr>\n",
       "    <tr>\n",
       "      <th>3</th>\n",
       "      <td>The best scene in the movie was when Gerardo i...</td>\n",
       "      <td>1</td>\n",
       "    </tr>\n",
       "    <tr>\n",
       "      <th>4</th>\n",
       "      <td>The rest of the movie lacks art, charm, meanin...</td>\n",
       "      <td>0</td>\n",
       "    </tr>\n",
       "  </tbody>\n",
       "</table>\n",
       "</div>"
      ],
      "text/plain": [
       "                                            sentence  label\n",
       "0  Not sure who was more lost - the flat characte...      0\n",
       "1  Attempting artiness with black & white and cle...      0\n",
       "2       Very little music or anything to speak of.        0\n",
       "3  The best scene in the movie was when Gerardo i...      1\n",
       "4  The rest of the movie lacks art, charm, meanin...      0"
      ]
     },
     "execution_count": 6,
     "metadata": {},
     "output_type": "execute_result"
    }
   ],
   "source": [
    "df.head()\n"
   ]
  },
  {
   "cell_type": "code",
   "execution_count": 7,
   "metadata": {},
   "outputs": [
    {
     "data": {
      "text/plain": [
       "<matplotlib.axes._subplots.AxesSubplot at 0x2487da26400>"
      ]
     },
     "execution_count": 7,
     "metadata": {},
     "output_type": "execute_result"
    },
    {
     "data": {
      "image/png": "[encoded data removed]",
      "text/plain": [
       "<Figure size 432x288 with 1 Axes>"
      ]
     },
     "metadata": {
      "needs_background": "light"
     },
     "output_type": "display_data"
    }
   ],
   "source": [
    "sns.barplot(np.unique(df['label']),df.groupby('label').count().values[:,0])"
   ]
  },
  {
   "cell_type": "markdown",
   "metadata": {},
   "source": [
    "## Bag of words "
   ]
  },
  {
   "cell_type": "markdown",
   "metadata": {},
   "source": [
    "### Sur un sous-jeu de données"
   ]
  },
  {
   "cell_type": "code",
   "execution_count": 8,
   "metadata": {},
   "outputs": [],
   "source": [
    "X_sub = df['sentence'][0:10]\n"
   ]
  },
  {
   "cell_type": "markdown",
   "metadata": {},
   "source": [
    "On crée un dictionnaire, puis on compte le nombre d'apparition des mots du dictionnaire dans chaque texte (critique)"
   ]
  },
  {
   "cell_type": "code",
   "execution_count": 9,
   "metadata": {},
   "outputs": [
    {
     "name": "stdout",
     "output_type": "stream",
     "text": [
      "['about', 'acting', 'adorable', 'almost', 'and', 'angles', 'anything', 'art', 'artiness', 'as', 'attempting', 'audience', 'baby', 'became', 'because', 'best', 'bit', 'black', 'buffet', 'camera', 'casting', 'characters', 'charm', 'clever', 'disappointed', 'effort', 'emptiness', 'empty', 'even', 'existent', 'find', 'flat', 'for', 'gerardo', 'good', 'guess', 'half', 'head', 'his', 'hours', 'if', 'in', 'is', 'it', 'jimmy', 'keeps', 'kids', 'lacks', 'lines', 'little', 'lost', 'loved', 'meaning', 'messages', 'more', 'movie', 'music', 'nearly', 'non', 'not', 'of', 'or', 'out', 'owls', 'plot', 'poor', 'predictable', 'rest', 'ridiculous', 'running', 'saw', 'scene', 'science', 'song', 'speak', 'sure', 'teacher', 'that', 'the', 'those', 'thought', 'through', 'to', 'today', 'trying', 'two', 'very', 'walked', 'was', 'wasted', 'were', 'when', 'white', 'who', 'whom', 'with', 'works']\n"
     ]
    }
   ],
   "source": [
    "count_vect = CountVectorizer()\n",
    "X_sub_counts = count_vect.fit_transform(X_sub)\n",
    "dictionary_sub   = count_vect.get_feature_names()\n",
    "print(dictionary_sub)"
   ]
  },
  {
   "cell_type": "code",
   "execution_count": 10,
   "metadata": {},
   "outputs": [
    {
     "name": "stdout",
     "output_type": "stream",
     "text": [
      "93\n"
     ]
    }
   ],
   "source": [
    "print(count_vect.vocabulary_.get(u'who'))"
   ]
  },
  {
   "cell_type": "code",
   "execution_count": 11,
   "metadata": {},
   "outputs": [
    {
     "name": "stdout",
     "output_type": "stream",
     "text": [
      "(10, 97)\n",
      "  (0, 62)\t1\n",
      "  (0, 87)\t1\n",
      "  (0, 94)\t1\n",
      "  (0, 60)\t1\n",
      "  (0, 36)\t1\n",
      "  (0, 57)\t1\n",
      "  (0, 11)\t1\n",
      "  (0, 61)\t1\n",
      "  (0, 21)\t1\n",
      "  (0, 31)\t1\n",
      "  (0, 78)\t2\n",
      "  (0, 50)\t1\n",
      "  (0, 54)\t1\n",
      "  (0, 88)\t1\n",
      "  (0, 93)\t1\n",
      "  (0, 75)\t1\n",
      "  (0, 59)\t1\n",
      "<class 'scipy.sparse.csr.csr_matrix'>\n"
     ]
    }
   ],
   "source": [
    "print(X_sub_counts.shape) \n",
    "print(X_sub_counts[0])\n",
    "print(type(X_sub_counts))"
   ]
  },
  {
   "cell_type": "code",
   "execution_count": 12,
   "metadata": {},
   "outputs": [
    {
     "name": "stdout",
     "output_type": "stream",
     "text": [
      "[0 0 0 0 0 0 0 0 0 0 0 1 0 0 0 0 0 0 0 0 0 1 0 0 0 0 0 0 0 0 0 1 0 0 0 0 1\n",
      " 0 0 0 0 0 0 0 0 0 0 0 0 0 1 0 0 0 1 0 0 1 0 1 1 1 1 0 0 0 0 0 0 0 0 0 0 0\n",
      " 0 1 0 0 2 0 0 0 0 0 0 0 0 1 1 0 0 0 0 1 1 0 0]\n"
     ]
    }
   ],
   "source": [
    "print(X_sub_counts.toarray()[0,:])"
   ]
  },
  {
   "cell_type": "code",
   "execution_count": 13,
   "metadata": {},
   "outputs": [],
   "source": [
    "word_counts = pd.DataFrame(X_sub_counts.toarray(),columns = dictionary_sub)\n",
    "word_total_counts = pd.DataFrame()\n",
    "word_total_counts['count'] = word_counts.sum(axis=0)\n",
    "word_total_counts['word'] = dictionary_sub"
   ]
  },
  {
   "cell_type": "code",
   "execution_count": 14,
   "metadata": {},
   "outputs": [],
   "source": [
    "word_total_counts_sorted_top  = word_total_counts.sort_values(by=\"count\",ascending = False).iloc[0:20]"
   ]
  },
  {
   "cell_type": "code",
   "execution_count": 15,
   "metadata": {},
   "outputs": [
    {
     "data": {
      "image/png": "[encoded data removed]",
      "text/plain": [
       "<Figure size 1080x576 with 1 Axes>"
      ]
     },
     "metadata": {
      "needs_background": "light"
     },
     "output_type": "display_data"
    }
   ],
   "source": [
    "plt.figure(figsize=(15,8))\n",
    "sns.barplot(x = word_total_counts_sorted_top.index,y=word_total_counts_sorted_top['count'])\n",
    "plt.xticks(rotation=90,fontsize=10)\n",
    "plt.show()"
   ]
  },
  {
   "cell_type": "markdown",
   "metadata": {},
   "source": [
    "On définit une fonction qui prend en encapsule ce qui précède"
   ]
  },
  {
   "cell_type": "code",
   "execution_count": 16,
   "metadata": {},
   "outputs": [],
   "source": [
    "def most_frequent_words(count_vect,data):    \n",
    "    data_counts = count_vect.fit_transform(data)\n",
    "    dictionary   = count_vect.get_feature_names()\n",
    "    print(\"Taille du dictionnaire : \",len(dictionary))\n",
    "    word_counts = pd.DataFrame(data_counts.toarray(),columns = dictionary)\n",
    "    word_total_counts = pd.DataFrame()\n",
    "    word_total_counts['count'] = word_counts.sum(axis=0)\n",
    "    word_total_counts['word'] = dictionary\n",
    "    word_total_counts_sorted_top  = word_total_counts.sort_values(by=\"count\",ascending = False).iloc[0:20]\n",
    "    plt.figure(figsize=(15,8))\n",
    "    sns.barplot(x = word_total_counts_sorted_top.index,y=word_total_counts_sorted_top['count'])\n",
    "    plt.xticks(rotation=90,fontsize=10)\n",
    "    plt.show()\n",
    "    return {'data_counts' : data_counts, 'word_total_counts' :word_total_counts, 'dictionary' : dictionary}"
   ]
  },
  {
   "cell_type": "code",
   "execution_count": 17,
   "metadata": {},
   "outputs": [],
   "source": [
    "count_vect = CountVectorizer()\n",
    "X_sub_counts = count_vect.fit_transform(X_sub)"
   ]
  },
  {
   "cell_type": "code",
   "execution_count": 18,
   "metadata": {},
   "outputs": [
    {
     "name": "stdout",
     "output_type": "stream",
     "text": [
      "Taille du dictionnaire :  97\n"
     ]
    },
    {
     "data": {
      "image/png": "[encoded data removed]",
      "text/plain": [
       "<Figure size 1080x576 with 1 Axes>"
      ]
     },
     "metadata": {
      "needs_background": "light"
     },
     "output_type": "display_data"
    }
   ],
   "source": [
    "most_frequent_words_sub = most_frequent_words(count_vect,X_sub)\n"
   ]
  },
  {
   "cell_type": "markdown",
   "metadata": {},
   "source": [
    "### Passage aux données complètes"
   ]
  },
  {
   "cell_type": "code",
   "execution_count": 19,
   "metadata": {},
   "outputs": [],
   "source": [
    "X = df['sentence']\n"
   ]
  },
  {
   "cell_type": "code",
   "execution_count": 20,
   "metadata": {},
   "outputs": [
    {
     "name": "stdout",
     "output_type": "stream",
     "text": [
      "Taille du dictionnaire :  3044\n"
     ]
    },
    {
     "data": {
      "image/png": "[encoded data removed]",
      "text/plain": [
       "<Figure size 1080x576 with 1 Axes>"
      ]
     },
     "metadata": {
      "needs_background": "light"
     },
     "output_type": "display_data"
    }
   ],
   "source": [
    "most_frequent_words_tot = most_frequent_words(count_vect,X)"
   ]
  },
  {
   "cell_type": "markdown",
   "metadata": {},
   "source": [
    "Quels problèmes voyez-vous ?"
   ]
  },
  {
   "cell_type": "markdown",
   "metadata": {},
   "source": [
    "## Préparation des données"
   ]
  },
  {
   "cell_type": "markdown",
   "metadata": {},
   "source": [
    "### Miniscules UTF-8 sans ponctuation"
   ]
  },
  {
   "cell_type": "markdown",
   "metadata": {},
   "source": [
    "Toujours vérifier que les mots sont en minuscule, qu'il n'a pas de signe de ponctuation, etc"
   ]
  },
  {
   "cell_type": "markdown",
   "metadata": {},
   "source": [
    "### Stopwords"
   ]
  },
  {
   "cell_type": "code",
   "execution_count": 21,
   "metadata": {},
   "outputs": [
    {
     "name": "stdout",
     "output_type": "stream",
     "text": [
      "{'an', \"wasn't\", 'i', 'having', 'him', 'no', \"won't\", 'by', 'his', 'nor', 'with', 'both', 'o', \"haven't\", 'them', 'out', 'our', 'your', 'on', 'when', 'how', 'few', 'too', 'now', \"mightn't\", 'what', 'at', 'being', 'm', 'until', 'they', 'mightn', 'while', 'been', 'mustn', 'further', 'did', \"shan't\", 'is', \"isn't\", 'himself', \"hasn't\", 'theirs', 'you', 'y', 'aren', 'then', 'her', 'into', \"you've\", 'where', 'ain', 'does', 'more', \"weren't\", 'whom', 'should', 'll', 'here', 'for', 'will', 'wasn', 'above', 'if', 'or', 't', 'do', 'there', 'have', 'had', 'won', 'needn', 'am', 'has', \"needn't\", 'shouldn', 'it', \"you're\", \"didn't\", 'yourselves', 'hasn', 'that', 'not', 'same', 'against', 'were', 'before', \"she's\", 'only', 'he', 'couldn', \"should've\", \"shouldn't\", 'why', \"aren't\", 'themselves', 'doing', 'than', 'can', 'haven', 'weren', 'down', 'but', 'about', \"it's\", 've', 'which', 'a', 'to', 'ma', \"doesn't\", 'such', 'again', \"couldn't\", 'don', 'just', 'their', 'd', 'all', 'ours', 'was', 'ourselves', 'doesn', \"wouldn't\", 'after', 'hadn', 'this', 's', 'off', 'between', \"that'll\", 'those', 'its', \"hadn't\", 'itself', 'who', 'she', 'myself', 'because', 'under', 'through', 're', 'yourself', 'other', 'as', 'so', 'herself', 'in', 'me', 'my', \"mustn't\", 'we', 'of', 'some', 'up', \"you'd\", \"you'll\", 'are', 'be', 'over', 'shan', 'these', 'once', 'below', \"don't\", 'wouldn', 'isn', 'own', 'from', 'the', 'and', 'didn', 'each', 'yours', 'during', 'very', 'any', 'hers', 'most'}\n"
     ]
    }
   ],
   "source": [
    "stop = set(stopwords.words('english')) \n",
    "print(stop)"
   ]
  },
  {
   "cell_type": "markdown",
   "metadata": {},
   "source": []
  },
  {
   "cell_type": "code",
   "execution_count": 22,
   "metadata": {},
   "outputs": [
    {
     "name": "stdout",
     "output_type": "stream",
     "text": [
      "Taille du dictionnaire :  2913\n"
     ]
    },
    {
     "data": {
      "image/png": "[encoded data removed]",
      "text/plain": [
       "<Figure size 1080x576 with 1 Axes>"
      ]
     },
     "metadata": {
      "needs_background": "light"
     },
     "output_type": "display_data"
    }
   ],
   "source": [
    "count_vect_sw = CountVectorizer(stop_words=stop)\n",
    "most_frequent_words_sw = most_frequent_words(count_vect_sw,X)"
   ]
  },
  {
   "cell_type": "markdown",
   "metadata": {},
   "source": [
    "### Visualisation du corpus"
   ]
  },
  {
   "cell_type": "code",
   "execution_count": 23,
   "metadata": {},
   "outputs": [
    {
     "data": {
      "text/plain": [
       "<747x2913 sparse matrix of type '<class 'numpy.int64'>'\n",
       "\twith 6876 stored elements in Compressed Sparse Row format>"
      ]
     },
     "execution_count": 23,
     "metadata": {},
     "output_type": "execute_result"
    }
   ],
   "source": [
    "most_frequent_words_sw['data_counts']"
   ]
  },
  {
   "cell_type": "code",
   "execution_count": 24,
   "metadata": {},
   "outputs": [],
   "source": [
    "most_frequent = np.array(most_frequent_words_sw['data_counts'].toarray())\n",
    "hist = most_frequent / most_frequent.sum(axis=1)[:,None]"
   ]
  },
  {
   "cell_type": "code",
   "execution_count": 25,
   "metadata": {},
   "outputs": [
    {
     "data": {
      "text/plain": [
       "array([[0.        , 0.        , 0.        , ..., 0.        , 0.        ,\n",
       "        0.        ],\n",
       "       [0.        , 0.        , 0.        , ..., 0.        , 0.        ,\n",
       "        0.        ],\n",
       "       [0.        , 0.        , 0.        , ..., 0.        , 0.        ,\n",
       "        0.        ],\n",
       "       ...,\n",
       "       [0.33333333, 0.        , 0.        , ..., 0.        , 0.        ,\n",
       "        0.        ],\n",
       "       [0.        , 0.        , 0.        , ..., 0.        , 0.        ,\n",
       "        0.        ],\n",
       "       [0.        , 0.        , 0.        , ..., 0.        , 0.        ,\n",
       "        0.        ]])"
      ]
     },
     "execution_count": 25,
     "metadata": {},
     "output_type": "execute_result"
    }
   ],
   "source": [
    "hist[np.argsort(df['label']),:]"
   ]
  },
  {
   "cell_type": "code",
   "execution_count": 26,
   "metadata": {},
   "outputs": [
    {
     "data": {
      "text/plain": [
       "<matplotlib.image.AxesImage at 0x2480040b940>"
      ]
     },
     "execution_count": 26,
     "metadata": {},
     "output_type": "execute_result"
    },
    {
     "data": {
      "image/png": "[encoded data removed]",
      "text/plain": [
       "<Figure size 1080x576 with 1 Axes>"
      ]
     },
     "metadata": {
      "needs_background": "light"
     },
     "output_type": "display_data"
    }
   ],
   "source": [
    "plt.figure(figsize=(15,8))\n",
    "plt.imshow(hist[np.argsort(df['label']),:])\n",
    "#plt.colorbar()"
   ]
  },
  {
   "cell_type": "markdown",
   "metadata": {},
   "source": [
    "### Avec TF_IDF"
   ]
  },
  {
   "cell_type": "code",
   "execution_count": 27,
   "metadata": {},
   "outputs": [
    {
     "data": {
      "text/plain": [
       "TfidfTransformer(norm='l2', smooth_idf=False, sublinear_tf=False,\n",
       "         use_idf=True)"
      ]
     },
     "execution_count": 27,
     "metadata": {},
     "output_type": "execute_result"
    }
   ],
   "source": [
    "transformer = TfidfTransformer(smooth_idf=False)\n",
    "transformer\n"
   ]
  },
  {
   "cell_type": "code",
   "execution_count": 28,
   "metadata": {},
   "outputs": [],
   "source": [
    "tf_idf_transf = transformer.fit_transform(most_frequent_words_sw['data_counts'])\n"
   ]
  },
  {
   "cell_type": "code",
   "execution_count": 29,
   "metadata": {},
   "outputs": [
    {
     "data": {
      "text/plain": [
       "<matplotlib.colorbar.Colorbar at 0x2480170dc50>"
      ]
     },
     "execution_count": 29,
     "metadata": {},
     "output_type": "execute_result"
    },
    {
     "data": {
      "image/png": "[encoded data removed]",
      "text/plain": [
       "<Figure size 1080x576 with 2 Axes>"
      ]
     },
     "metadata": {
      "needs_background": "light"
     },
     "output_type": "display_data"
    }
   ],
   "source": [
    "plt.figure(figsize=(15,8))\n",
    "plt.imshow(tf_idf_transf.toarray()[np.argsort(df['label']),:])\n",
    "plt.colorbar()"
   ]
  },
  {
   "cell_type": "markdown",
   "metadata": {},
   "source": [
    "## Apprentissage supervisé"
   ]
  },
  {
   "cell_type": "markdown",
   "metadata": {},
   "source": [
    "### Sur les counts"
   ]
  },
  {
   "cell_type": "code",
   "execution_count": 30,
   "metadata": {},
   "outputs": [
    {
     "data": {
      "text/plain": [
       "0.9665327978580991"
      ]
     },
     "execution_count": 30,
     "metadata": {},
     "output_type": "execute_result"
    }
   ],
   "source": [
    "NB_counts = MultinomialNB()\n",
    "NB_counts.fit(X=most_frequent_words_sw['data_counts'],y=df['label'])\n",
    "accuracy_score(NB_counts.predict(most_frequent_words_sw['data_counts']),df['label'])"
   ]
  },
  {
   "cell_type": "markdown",
   "metadata": {},
   "source": [
    "### Sur le TF-IDF"
   ]
  },
  {
   "cell_type": "code",
   "execution_count": 31,
   "metadata": {},
   "outputs": [
    {
     "data": {
      "text/plain": [
       "0.9665327978580991"
      ]
     },
     "execution_count": 31,
     "metadata": {},
     "output_type": "execute_result"
    }
   ],
   "source": [
    "NB_tfidf = GaussianNB()\n",
    "NB_tfidf.fit(X=tf_idf_transf.toarray(),y=df['label'])\n",
    "accuracy_score(NB_tfidf.predict(tf_idf_transf.toarray()),df['label'])"
   ]
  },
  {
   "cell_type": "code",
   "execution_count": 32,
   "metadata": {},
   "outputs": [],
   "source": [
    "df['prediction_counts'] = NB_counts.predict(most_frequent_words_sw['data_counts'])"
   ]
  },
  {
   "cell_type": "code",
   "execution_count": 33,
   "metadata": {},
   "outputs": [],
   "source": [
    "df['prediction_tfidf'] = NB_tfidf.predict(tf_idf_transf.toarray())"
   ]
  },
  {
   "cell_type": "code",
   "execution_count": 34,
   "metadata": {},
   "outputs": [
    {
     "data": {
      "text/html": [
       "<div>\n",
       "<style scoped>\n",
       "    .dataframe tbody tr th:only-of-type {\n",
       "        vertical-align: middle;\n",
       "    }\n",
       "\n",
       "    .dataframe tbody tr th {\n",
       "        vertical-align: top;\n",
       "    }\n",
       "\n",
       "    .dataframe thead th {\n",
       "        text-align: right;\n",
       "    }\n",
       "</style>\n",
       "<table border=\"1\" class=\"dataframe\">\n",
       "  <thead>\n",
       "    <tr style=\"text-align: right;\">\n",
       "      <th></th>\n",
       "      <th>sentence</th>\n",
       "      <th>label</th>\n",
       "      <th>prediction_counts</th>\n",
       "      <th>prediction_tfidf</th>\n",
       "    </tr>\n",
       "  </thead>\n",
       "  <tbody>\n",
       "    <tr>\n",
       "      <th>23</th>\n",
       "      <td>Give this one a look.</td>\n",
       "      <td>1</td>\n",
       "      <td>1</td>\n",
       "      <td>0</td>\n",
       "    </tr>\n",
       "    <tr>\n",
       "      <th>38</th>\n",
       "      <td>I don't think you will be disappointed.</td>\n",
       "      <td>1</td>\n",
       "      <td>0</td>\n",
       "      <td>0</td>\n",
       "    </tr>\n",
       "    <tr>\n",
       "      <th>58</th>\n",
       "      <td>A great film by a great director.</td>\n",
       "      <td>1</td>\n",
       "      <td>1</td>\n",
       "      <td>0</td>\n",
       "    </tr>\n",
       "    <tr>\n",
       "      <th>63</th>\n",
       "      <td>10/10</td>\n",
       "      <td>1</td>\n",
       "      <td>1</td>\n",
       "      <td>0</td>\n",
       "    </tr>\n",
       "    <tr>\n",
       "      <th>163</th>\n",
       "      <td>Everything from acting to cinematography was s...</td>\n",
       "      <td>1</td>\n",
       "      <td>1</td>\n",
       "      <td>0</td>\n",
       "    </tr>\n",
       "    <tr>\n",
       "      <th>250</th>\n",
       "      <td>I won't say any more - I don't like spoilers, ...</td>\n",
       "      <td>1</td>\n",
       "      <td>1</td>\n",
       "      <td>0</td>\n",
       "    </tr>\n",
       "    <tr>\n",
       "      <th>293</th>\n",
       "      <td>But this movie really got to me.</td>\n",
       "      <td>1</td>\n",
       "      <td>1</td>\n",
       "      <td>0</td>\n",
       "    </tr>\n",
       "    <tr>\n",
       "      <th>294</th>\n",
       "      <td>See it.</td>\n",
       "      <td>1</td>\n",
       "      <td>1</td>\n",
       "      <td>0</td>\n",
       "    </tr>\n",
       "    <tr>\n",
       "      <th>312</th>\n",
       "      <td>The cast is good.</td>\n",
       "      <td>1</td>\n",
       "      <td>1</td>\n",
       "      <td>0</td>\n",
       "    </tr>\n",
       "    <tr>\n",
       "      <th>332</th>\n",
       "      <td>the cast was great.</td>\n",
       "      <td>1</td>\n",
       "      <td>1</td>\n",
       "      <td>0</td>\n",
       "    </tr>\n",
       "    <tr>\n",
       "      <th>414</th>\n",
       "      <td>Go watch it!</td>\n",
       "      <td>1</td>\n",
       "      <td>1</td>\n",
       "      <td>0</td>\n",
       "    </tr>\n",
       "    <tr>\n",
       "      <th>433</th>\n",
       "      <td>I'll give this film 10 out of 10!</td>\n",
       "      <td>1</td>\n",
       "      <td>1</td>\n",
       "      <td>0</td>\n",
       "    </tr>\n",
       "    <tr>\n",
       "      <th>455</th>\n",
       "      <td>There still are good actors around!</td>\n",
       "      <td>1</td>\n",
       "      <td>1</td>\n",
       "      <td>0</td>\n",
       "    </tr>\n",
       "    <tr>\n",
       "      <th>478</th>\n",
       "      <td>GO AND SEE IT!</td>\n",
       "      <td>1</td>\n",
       "      <td>1</td>\n",
       "      <td>0</td>\n",
       "    </tr>\n",
       "    <tr>\n",
       "      <th>484</th>\n",
       "      <td>A good film by a great director!</td>\n",
       "      <td>1</td>\n",
       "      <td>1</td>\n",
       "      <td>0</td>\n",
       "    </tr>\n",
       "    <tr>\n",
       "      <th>487</th>\n",
       "      <td>This is just a great movie.</td>\n",
       "      <td>1</td>\n",
       "      <td>1</td>\n",
       "      <td>0</td>\n",
       "    </tr>\n",
       "    <tr>\n",
       "      <th>496</th>\n",
       "      <td>Highly recommended A+</td>\n",
       "      <td>1</td>\n",
       "      <td>1</td>\n",
       "      <td>0</td>\n",
       "    </tr>\n",
       "    <tr>\n",
       "      <th>541</th>\n",
       "      <td>I just saw this film and I recommend it.</td>\n",
       "      <td>1</td>\n",
       "      <td>1</td>\n",
       "      <td>0</td>\n",
       "    </tr>\n",
       "    <tr>\n",
       "      <th>589</th>\n",
       "      <td>10/10</td>\n",
       "      <td>1</td>\n",
       "      <td>1</td>\n",
       "      <td>0</td>\n",
       "    </tr>\n",
       "    <tr>\n",
       "      <th>595</th>\n",
       "      <td>Predictable, but not a bad watch.</td>\n",
       "      <td>1</td>\n",
       "      <td>0</td>\n",
       "      <td>0</td>\n",
       "    </tr>\n",
       "    <tr>\n",
       "      <th>632</th>\n",
       "      <td>See both films if you can.</td>\n",
       "      <td>1</td>\n",
       "      <td>1</td>\n",
       "      <td>0</td>\n",
       "    </tr>\n",
       "    <tr>\n",
       "      <th>690</th>\n",
       "      <td>Go rent it.</td>\n",
       "      <td>1</td>\n",
       "      <td>1</td>\n",
       "      <td>0</td>\n",
       "    </tr>\n",
       "    <tr>\n",
       "      <th>706</th>\n",
       "      <td>I have recommended it to friends.</td>\n",
       "      <td>1</td>\n",
       "      <td>1</td>\n",
       "      <td>0</td>\n",
       "    </tr>\n",
       "    <tr>\n",
       "      <th>728</th>\n",
       "      <td>I keep watching it over and over.</td>\n",
       "      <td>1</td>\n",
       "      <td>0</td>\n",
       "      <td>0</td>\n",
       "    </tr>\n",
       "    <tr>\n",
       "      <th>730</th>\n",
       "      <td>If you have not seen this movie, I definitely ...</td>\n",
       "      <td>1</td>\n",
       "      <td>1</td>\n",
       "      <td>0</td>\n",
       "    </tr>\n",
       "  </tbody>\n",
       "</table>\n",
       "</div>"
      ],
      "text/plain": [
       "                                              sentence  label  \\\n",
       "23                             Give this one a look.        1   \n",
       "38           I don't think you will be disappointed.        1   \n",
       "58                 A great film by a great director.        1   \n",
       "63                                             10/10        1   \n",
       "163  Everything from acting to cinematography was s...      1   \n",
       "250  I won't say any more - I don't like spoilers, ...      1   \n",
       "293                 But this movie really got to me.        1   \n",
       "294                                          See it.        1   \n",
       "312                                The cast is good.        1   \n",
       "332                              the cast was great.        1   \n",
       "414                                     Go watch it!        1   \n",
       "433                I'll give this film 10 out of 10!        1   \n",
       "455              There still are good actors around!        1   \n",
       "478                                   GO AND SEE IT!        1   \n",
       "484                 A good film by a great director!        1   \n",
       "487                      This is just a great movie.        1   \n",
       "496                            Highly recommended A+        1   \n",
       "541         I just saw this film and I recommend it.        1   \n",
       "589                                            10/10        1   \n",
       "595                Predictable, but not a bad watch.        1   \n",
       "632                       See both films if you can.        1   \n",
       "690                                      Go rent it.        1   \n",
       "706                I have recommended it to friends.        1   \n",
       "728                I keep watching it over and over.        1   \n",
       "730  If you have not seen this movie, I definitely ...      1   \n",
       "\n",
       "     prediction_counts  prediction_tfidf  \n",
       "23                   1                 0  \n",
       "38                   0                 0  \n",
       "58                   1                 0  \n",
       "63                   1                 0  \n",
       "163                  1                 0  \n",
       "250                  1                 0  \n",
       "293                  1                 0  \n",
       "294                  1                 0  \n",
       "312                  1                 0  \n",
       "332                  1                 0  \n",
       "414                  1                 0  \n",
       "433                  1                 0  \n",
       "455                  1                 0  \n",
       "478                  1                 0  \n",
       "484                  1                 0  \n",
       "487                  1                 0  \n",
       "496                  1                 0  \n",
       "541                  1                 0  \n",
       "589                  1                 0  \n",
       "595                  0                 0  \n",
       "632                  1                 0  \n",
       "690                  1                 0  \n",
       "706                  1                 0  \n",
       "728                  0                 0  \n",
       "730                  1                 0  "
      ]
     },
     "execution_count": 34,
     "metadata": {},
     "output_type": "execute_result"
    }
   ],
   "source": [
    "df[df['prediction_tfidf'] != df['label']]"
   ]
  },
  {
   "cell_type": "code",
   "execution_count": 35,
   "metadata": {},
   "outputs": [
    {
     "data": {
      "text/html": [
       "<div>\n",
       "<style scoped>\n",
       "    .dataframe tbody tr th:only-of-type {\n",
       "        vertical-align: middle;\n",
       "    }\n",
       "\n",
       "    .dataframe tbody tr th {\n",
       "        vertical-align: top;\n",
       "    }\n",
       "\n",
       "    .dataframe thead th {\n",
       "        text-align: right;\n",
       "    }\n",
       "</style>\n",
       "<table border=\"1\" class=\"dataframe\">\n",
       "  <thead>\n",
       "    <tr style=\"text-align: right;\">\n",
       "      <th></th>\n",
       "      <th>sentence</th>\n",
       "      <th>label</th>\n",
       "      <th>prediction_counts</th>\n",
       "      <th>prediction_tfidf</th>\n",
       "    </tr>\n",
       "  </thead>\n",
       "  <tbody>\n",
       "    <tr>\n",
       "      <th>20</th>\n",
       "      <td>If there was ever a movie that needed word-of-...</td>\n",
       "      <td>1</td>\n",
       "      <td>0</td>\n",
       "      <td>1</td>\n",
       "    </tr>\n",
       "    <tr>\n",
       "      <th>38</th>\n",
       "      <td>I don't think you will be disappointed.</td>\n",
       "      <td>1</td>\n",
       "      <td>0</td>\n",
       "      <td>0</td>\n",
       "    </tr>\n",
       "    <tr>\n",
       "      <th>49</th>\n",
       "      <td>The directing and the cinematography aren't qu...</td>\n",
       "      <td>0</td>\n",
       "      <td>1</td>\n",
       "      <td>0</td>\n",
       "    </tr>\n",
       "    <tr>\n",
       "      <th>76</th>\n",
       "      <td>I saw \"Mirrormask\" last night and it was an un...</td>\n",
       "      <td>0</td>\n",
       "      <td>1</td>\n",
       "      <td>0</td>\n",
       "    </tr>\n",
       "    <tr>\n",
       "      <th>123</th>\n",
       "      <td>Highly unrecommended.</td>\n",
       "      <td>0</td>\n",
       "      <td>1</td>\n",
       "      <td>0</td>\n",
       "    </tr>\n",
       "    <tr>\n",
       "      <th>131</th>\n",
       "      <td>There were too many close ups.</td>\n",
       "      <td>0</td>\n",
       "      <td>1</td>\n",
       "      <td>0</td>\n",
       "    </tr>\n",
       "    <tr>\n",
       "      <th>142</th>\n",
       "      <td>It even has its sweet moments.</td>\n",
       "      <td>1</td>\n",
       "      <td>0</td>\n",
       "      <td>1</td>\n",
       "    </tr>\n",
       "    <tr>\n",
       "      <th>175</th>\n",
       "      <td>If you see it, you should probably just leave ...</td>\n",
       "      <td>0</td>\n",
       "      <td>1</td>\n",
       "      <td>0</td>\n",
       "    </tr>\n",
       "    <tr>\n",
       "      <th>235</th>\n",
       "      <td>1/10 - and only because there is no setting fo...</td>\n",
       "      <td>0</td>\n",
       "      <td>1</td>\n",
       "      <td>0</td>\n",
       "    </tr>\n",
       "    <tr>\n",
       "      <th>244</th>\n",
       "      <td>The last 15 minutes of movie are also not bad ...</td>\n",
       "      <td>1</td>\n",
       "      <td>0</td>\n",
       "      <td>1</td>\n",
       "    </tr>\n",
       "    <tr>\n",
       "      <th>335</th>\n",
       "      <td>but the movie makes a lot of serious mistakes.</td>\n",
       "      <td>0</td>\n",
       "      <td>1</td>\n",
       "      <td>0</td>\n",
       "    </tr>\n",
       "    <tr>\n",
       "      <th>373</th>\n",
       "      <td>Not recommended.</td>\n",
       "      <td>0</td>\n",
       "      <td>1</td>\n",
       "      <td>0</td>\n",
       "    </tr>\n",
       "    <tr>\n",
       "      <th>386</th>\n",
       "      <td>Not recommended.</td>\n",
       "      <td>0</td>\n",
       "      <td>1</td>\n",
       "      <td>0</td>\n",
       "    </tr>\n",
       "    <tr>\n",
       "      <th>468</th>\n",
       "      <td>It is not good.</td>\n",
       "      <td>0</td>\n",
       "      <td>1</td>\n",
       "      <td>0</td>\n",
       "    </tr>\n",
       "    <tr>\n",
       "      <th>471</th>\n",
       "      <td>This is a stunning movie.</td>\n",
       "      <td>1</td>\n",
       "      <td>0</td>\n",
       "      <td>1</td>\n",
       "    </tr>\n",
       "    <tr>\n",
       "      <th>518</th>\n",
       "      <td>You can find better movies at youtube.</td>\n",
       "      <td>0</td>\n",
       "      <td>1</td>\n",
       "      <td>0</td>\n",
       "    </tr>\n",
       "    <tr>\n",
       "      <th>576</th>\n",
       "      <td>You won't forget this movie!</td>\n",
       "      <td>1</td>\n",
       "      <td>0</td>\n",
       "      <td>1</td>\n",
       "    </tr>\n",
       "    <tr>\n",
       "      <th>577</th>\n",
       "      <td>Why was this film made?</td>\n",
       "      <td>0</td>\n",
       "      <td>1</td>\n",
       "      <td>0</td>\n",
       "    </tr>\n",
       "    <tr>\n",
       "      <th>579</th>\n",
       "      <td>The result is a film that just don't look righ...</td>\n",
       "      <td>0</td>\n",
       "      <td>1</td>\n",
       "      <td>0</td>\n",
       "    </tr>\n",
       "    <tr>\n",
       "      <th>595</th>\n",
       "      <td>Predictable, but not a bad watch.</td>\n",
       "      <td>1</td>\n",
       "      <td>0</td>\n",
       "      <td>0</td>\n",
       "    </tr>\n",
       "    <tr>\n",
       "      <th>624</th>\n",
       "      <td>I struggle to find anything bad to say about i...</td>\n",
       "      <td>1</td>\n",
       "      <td>0</td>\n",
       "      <td>1</td>\n",
       "    </tr>\n",
       "    <tr>\n",
       "      <th>651</th>\n",
       "      <td>I'm so sorry but I really can't recommend it t...</td>\n",
       "      <td>0</td>\n",
       "      <td>1</td>\n",
       "      <td>0</td>\n",
       "    </tr>\n",
       "    <tr>\n",
       "      <th>658</th>\n",
       "      <td>This is not movie-making.</td>\n",
       "      <td>0</td>\n",
       "      <td>1</td>\n",
       "      <td>0</td>\n",
       "    </tr>\n",
       "    <tr>\n",
       "      <th>672</th>\n",
       "      <td>Not easy to watch.</td>\n",
       "      <td>0</td>\n",
       "      <td>1</td>\n",
       "      <td>0</td>\n",
       "    </tr>\n",
       "    <tr>\n",
       "      <th>728</th>\n",
       "      <td>I keep watching it over and over.</td>\n",
       "      <td>1</td>\n",
       "      <td>0</td>\n",
       "      <td>0</td>\n",
       "    </tr>\n",
       "  </tbody>\n",
       "</table>\n",
       "</div>"
      ],
      "text/plain": [
       "                                              sentence  label  \\\n",
       "20   If there was ever a movie that needed word-of-...      1   \n",
       "38           I don't think you will be disappointed.        1   \n",
       "49   The directing and the cinematography aren't qu...      0   \n",
       "76   I saw \"Mirrormask\" last night and it was an un...      0   \n",
       "123                            Highly unrecommended.        0   \n",
       "131                   There were too many close ups.        0   \n",
       "142                   It even has its sweet moments.        1   \n",
       "175  If you see it, you should probably just leave ...      0   \n",
       "235  1/10 - and only because there is no setting fo...      0   \n",
       "244  The last 15 minutes of movie are also not bad ...      1   \n",
       "335   but the movie makes a lot of serious mistakes.        0   \n",
       "373                                 Not recommended.        0   \n",
       "386                                 Not recommended.        0   \n",
       "468                                  It is not good.        0   \n",
       "471                        This is a stunning movie.        1   \n",
       "518           You can find better movies at youtube.        0   \n",
       "576                     You won't forget this movie!        1   \n",
       "577                          Why was this film made?        0   \n",
       "579  The result is a film that just don't look righ...      0   \n",
       "595                Predictable, but not a bad watch.        1   \n",
       "624  I struggle to find anything bad to say about i...      1   \n",
       "651  I'm so sorry but I really can't recommend it t...      0   \n",
       "658                        This is not movie-making.        0   \n",
       "672                               Not easy to watch.        0   \n",
       "728                I keep watching it over and over.        1   \n",
       "\n",
       "     prediction_counts  prediction_tfidf  \n",
       "20                   0                 1  \n",
       "38                   0                 0  \n",
       "49                   1                 0  \n",
       "76                   1                 0  \n",
       "123                  1                 0  \n",
       "131                  1                 0  \n",
       "142                  0                 1  \n",
       "175                  1                 0  \n",
       "235                  1                 0  \n",
       "244                  0                 1  \n",
       "335                  1                 0  \n",
       "373                  1                 0  \n",
       "386                  1                 0  \n",
       "468                  1                 0  \n",
       "471                  0                 1  \n",
       "518                  1                 0  \n",
       "576                  0                 1  \n",
       "577                  1                 0  \n",
       "579                  1                 0  \n",
       "595                  0                 0  \n",
       "624                  0                 1  \n",
       "651                  1                 0  \n",
       "658                  1                 0  \n",
       "672                  1                 0  \n",
       "728                  0                 0  "
      ]
     },
     "execution_count": 35,
     "metadata": {},
     "output_type": "execute_result"
    }
   ],
   "source": [
    "df[df['prediction_counts'] != df['label']]"
   ]
  },
  {
   "cell_type": "code",
   "execution_count": 36,
   "metadata": {},
   "outputs": [
    {
     "data": {
      "text/plain": [
       "0.9866131191432396"
      ]
     },
     "execution_count": 36,
     "metadata": {},
     "output_type": "execute_result"
    }
   ],
   "source": [
    "NB_logistic = SGDClassifier(loss='hinge', penalty='l2',\\\n",
    "                           alpha=1e-3, random_state=42,\\\n",
    "                           max_iter=5, tol=None)\n",
    "logistic_fit = NB_logistic.fit(X=tf_idf_transf.toarray(),y=df['label'])\n",
    "accuracy_score(NB_logistic.predict(tf_idf_transf.toarray()),df['label'])"
   ]
  },
  {
   "cell_type": "code",
   "execution_count": 37,
   "metadata": {},
   "outputs": [
    {
     "name": "stdout",
     "output_type": "stream",
     "text": [
      "Mots avec le coeff le plus négatif :  bad\n",
      "Mots avec le coeff le plus positif :  wonderful\n"
     ]
    }
   ],
   "source": [
    "print(\"Mots avec le coeff le plus négatif : \", most_frequent_words_sw['dictionary'][np.argsort(NB_logistic.coef_)[0][0]])\n",
    "print(\"Mots avec le coeff le plus positif : \", most_frequent_words_sw['dictionary'][np.argsort(NB_logistic.coef_)[0][-1]])"
   ]
  },
  {
   "cell_type": "code",
   "execution_count": 38,
   "metadata": {},
   "outputs": [
    {
     "data": {
      "text/plain": [
       "['10',\n",
       " '12',\n",
       " '13',\n",
       " '15',\n",
       " '15pm',\n",
       " '17',\n",
       " '18th',\n",
       " '1928',\n",
       " '1947',\n",
       " '1948',\n",
       " '1949',\n",
       " '1971',\n",
       " '1973',\n",
       " '1980',\n",
       " '1986',\n",
       " '1995',\n",
       " '1998',\n",
       " '20',\n",
       " '2005',\n",
       " '2006',\n",
       " '20th',\n",
       " '25',\n",
       " '30',\n",
       " '40',\n",
       " '50',\n",
       " '54',\n",
       " '70',\n",
       " '70000',\n",
       " '70s',\n",
       " '80',\n",
       " '80s',\n",
       " '8pm',\n",
       " '90',\n",
       " '95',\n",
       " 'aailiyah',\n",
       " 'abandoned',\n",
       " 'ability',\n",
       " 'abroad',\n",
       " 'absolutely',\n",
       " 'abstruse',\n",
       " 'abysmal',\n",
       " 'academy',\n",
       " 'accents',\n",
       " 'accessible',\n",
       " 'acclaimed',\n",
       " 'accolades',\n",
       " 'accurate',\n",
       " 'accurately',\n",
       " 'accused',\n",
       " 'achievement',\n",
       " 'achille',\n",
       " 'ackerman',\n",
       " 'act',\n",
       " 'acted',\n",
       " 'acting',\n",
       " 'action',\n",
       " 'actions',\n",
       " 'actor',\n",
       " 'actors',\n",
       " 'actress',\n",
       " 'actresses',\n",
       " 'actually',\n",
       " 'adams',\n",
       " 'adaptation',\n",
       " 'add',\n",
       " 'added',\n",
       " 'addition',\n",
       " 'admins',\n",
       " 'admiration',\n",
       " 'admitted',\n",
       " 'adorable',\n",
       " 'adrift',\n",
       " 'adventure',\n",
       " 'advise',\n",
       " 'aerial',\n",
       " 'aesthetically',\n",
       " 'affected',\n",
       " 'affleck',\n",
       " 'afraid',\n",
       " 'africa',\n",
       " 'afternoon',\n",
       " 'age',\n",
       " 'aged',\n",
       " 'ages',\n",
       " 'ago',\n",
       " 'agree',\n",
       " 'agreed',\n",
       " 'air',\n",
       " 'aired',\n",
       " 'akasha',\n",
       " 'akin',\n",
       " 'alert',\n",
       " 'alexander',\n",
       " 'alike',\n",
       " 'allison',\n",
       " 'allow',\n",
       " 'allowing',\n",
       " 'almost',\n",
       " 'along',\n",
       " 'alongside',\n",
       " 'already',\n",
       " 'also',\n",
       " 'although',\n",
       " 'always',\n",
       " 'amateurish',\n",
       " 'amaze',\n",
       " 'amazed',\n",
       " 'amazing',\n",
       " 'amazingly',\n",
       " 'america',\n",
       " 'american',\n",
       " 'americans',\n",
       " 'among',\n",
       " 'amount',\n",
       " 'amusing',\n",
       " 'anatomist',\n",
       " 'angel',\n",
       " 'angela',\n",
       " 'angeles',\n",
       " 'angelina',\n",
       " 'angle',\n",
       " 'angles',\n",
       " 'angry',\n",
       " 'anguish',\n",
       " 'angus',\n",
       " 'animals',\n",
       " 'animated',\n",
       " 'animation',\n",
       " 'anita',\n",
       " 'ann',\n",
       " 'anne',\n",
       " 'anniversary',\n",
       " 'annoying',\n",
       " 'another',\n",
       " 'anthony',\n",
       " 'antithesis',\n",
       " 'anyone',\n",
       " 'anything',\n",
       " 'anyway',\n",
       " 'apart',\n",
       " 'appalling',\n",
       " 'appealing',\n",
       " 'appearance',\n",
       " 'appears',\n",
       " 'applauded',\n",
       " 'applause',\n",
       " 'appreciate',\n",
       " 'appropriate',\n",
       " 'apt',\n",
       " 'argued',\n",
       " 'armageddon',\n",
       " 'armand',\n",
       " 'around',\n",
       " 'array',\n",
       " 'art',\n",
       " 'articulated',\n",
       " 'artiness',\n",
       " 'artist',\n",
       " 'artistic',\n",
       " 'artless',\n",
       " 'arts',\n",
       " 'aside',\n",
       " 'ask',\n",
       " 'asleep',\n",
       " 'aspect',\n",
       " 'aspects',\n",
       " 'ass',\n",
       " 'assante',\n",
       " 'assaulted',\n",
       " 'assistant',\n",
       " 'astonishingly',\n",
       " 'astronaut',\n",
       " 'atmosphere',\n",
       " 'atrocious',\n",
       " 'atrocity',\n",
       " 'attempt',\n",
       " 'attempted',\n",
       " 'attempting',\n",
       " 'attempts',\n",
       " 'attention',\n",
       " 'attractive',\n",
       " 'audience',\n",
       " 'audio',\n",
       " 'aurvåg',\n",
       " 'austen',\n",
       " 'austere',\n",
       " 'author',\n",
       " 'average',\n",
       " 'aversion',\n",
       " 'avoid',\n",
       " 'avoided',\n",
       " 'award',\n",
       " 'awarded',\n",
       " 'awards',\n",
       " 'away',\n",
       " 'awesome',\n",
       " 'awful',\n",
       " 'awkwardly',\n",
       " 'aye',\n",
       " 'baaaaaad',\n",
       " 'babbling',\n",
       " 'babie',\n",
       " 'baby',\n",
       " 'babysitting',\n",
       " 'back',\n",
       " 'backdrop',\n",
       " 'backed',\n",
       " 'bad',\n",
       " 'badly',\n",
       " 'bag',\n",
       " 'bailey',\n",
       " 'bakery',\n",
       " 'balance',\n",
       " 'balanced',\n",
       " 'ball',\n",
       " 'ballet',\n",
       " 'balls',\n",
       " 'band',\n",
       " 'barcelona',\n",
       " 'barely',\n",
       " 'barking',\n",
       " 'barney',\n",
       " 'barren',\n",
       " 'based',\n",
       " 'basic',\n",
       " 'basically',\n",
       " 'bat',\n",
       " 'bates',\n",
       " 'baxendale',\n",
       " 'bear',\n",
       " 'beautiful',\n",
       " 'beautifully',\n",
       " 'became',\n",
       " 'bechard',\n",
       " 'become',\n",
       " 'becomes',\n",
       " 'began',\n",
       " 'begin',\n",
       " 'beginning',\n",
       " 'behind',\n",
       " 'behold',\n",
       " 'bela',\n",
       " 'believable',\n",
       " 'believe',\n",
       " 'believed',\n",
       " 'bell',\n",
       " 'bellucci',\n",
       " 'belly',\n",
       " 'belmondo',\n",
       " 'ben',\n",
       " 'bendingly',\n",
       " 'bennett',\n",
       " 'bergen',\n",
       " 'bertolucci',\n",
       " 'best',\n",
       " 'better',\n",
       " 'betty',\n",
       " 'beware',\n",
       " 'beyond',\n",
       " 'bible',\n",
       " 'big',\n",
       " 'biggest',\n",
       " 'billy',\n",
       " 'biographical',\n",
       " 'bipolarity',\n",
       " 'bit',\n",
       " 'bitchy',\n",
       " 'black',\n",
       " 'blah',\n",
       " 'blake',\n",
       " 'bland',\n",
       " 'blandly',\n",
       " 'blare',\n",
       " 'blatant',\n",
       " 'blew',\n",
       " 'blood',\n",
       " 'blown',\n",
       " 'blue',\n",
       " 'blush',\n",
       " 'boasts',\n",
       " 'bob',\n",
       " 'body',\n",
       " 'bohemian',\n",
       " 'boiling',\n",
       " 'bold',\n",
       " 'bombardments',\n",
       " 'bond',\n",
       " 'bonding',\n",
       " 'bonus',\n",
       " 'bonuses',\n",
       " 'boobs',\n",
       " 'boogeyman',\n",
       " 'book',\n",
       " 'boost',\n",
       " 'bop',\n",
       " 'bordered',\n",
       " 'borderlines',\n",
       " 'borders',\n",
       " 'bore',\n",
       " 'bored',\n",
       " 'boring',\n",
       " 'borrowed',\n",
       " 'boss',\n",
       " 'bother',\n",
       " 'bothersome',\n",
       " 'bought',\n",
       " 'box',\n",
       " 'boyfriend',\n",
       " 'boyle',\n",
       " 'brain',\n",
       " 'brainsucking',\n",
       " 'brat',\n",
       " 'breaking',\n",
       " 'breeders',\n",
       " 'brevity',\n",
       " 'brian',\n",
       " 'brief',\n",
       " 'brigand',\n",
       " 'bright',\n",
       " 'brilliance',\n",
       " 'brilliant',\n",
       " 'brilliantly',\n",
       " 'bring',\n",
       " 'brings',\n",
       " 'broad',\n",
       " 'broke',\n",
       " 'brooding',\n",
       " 'brother',\n",
       " 'brutal',\n",
       " 'buddy',\n",
       " 'budget',\n",
       " 'buffalo',\n",
       " 'buffet',\n",
       " 'build',\n",
       " 'builders',\n",
       " 'buildings',\n",
       " 'built',\n",
       " 'bullock',\n",
       " 'bully',\n",
       " 'bunch',\n",
       " 'burton',\n",
       " 'business',\n",
       " 'buy',\n",
       " 'cable',\n",
       " 'cailles',\n",
       " 'california',\n",
       " 'call',\n",
       " 'called',\n",
       " 'calls',\n",
       " 'came',\n",
       " 'cameo',\n",
       " 'camera',\n",
       " 'camerawork',\n",
       " 'camp',\n",
       " 'campy',\n",
       " 'canada',\n",
       " 'cancan',\n",
       " 'candace',\n",
       " 'candle',\n",
       " 'cannot',\n",
       " 'cant',\n",
       " 'captain',\n",
       " 'captured',\n",
       " 'captures',\n",
       " 'car',\n",
       " 'card',\n",
       " 'cardboard',\n",
       " 'cardellini',\n",
       " 'care',\n",
       " 'carol',\n",
       " 'carrell',\n",
       " 'carries',\n",
       " 'carry',\n",
       " 'cars',\n",
       " 'cartoon',\n",
       " 'cartoons',\n",
       " 'case',\n",
       " 'cases',\n",
       " 'cast',\n",
       " 'casted',\n",
       " 'casting',\n",
       " 'cat',\n",
       " 'catchy',\n",
       " 'caught',\n",
       " 'cause',\n",
       " 'ceases',\n",
       " 'celebration',\n",
       " 'celebrity',\n",
       " 'celluloid',\n",
       " 'centers',\n",
       " 'central',\n",
       " 'century',\n",
       " 'certain',\n",
       " 'certainly',\n",
       " 'cg',\n",
       " 'cgi',\n",
       " 'chalkboard',\n",
       " 'challenges',\n",
       " 'chance',\n",
       " 'change',\n",
       " 'changes',\n",
       " 'changing',\n",
       " 'channel',\n",
       " 'character',\n",
       " 'characterisation',\n",
       " 'characters',\n",
       " 'charisma',\n",
       " 'charismatic',\n",
       " 'charles',\n",
       " 'charlie',\n",
       " 'charm',\n",
       " 'charming',\n",
       " 'chase',\n",
       " 'chasing',\n",
       " 'cheap',\n",
       " 'cheaply',\n",
       " 'check',\n",
       " 'checking',\n",
       " 'cheek',\n",
       " 'cheekbones',\n",
       " 'cheerfull',\n",
       " 'cheerless',\n",
       " 'cheesiness',\n",
       " 'cheesy',\n",
       " 'chemistry',\n",
       " 'chick',\n",
       " 'child',\n",
       " 'childhood',\n",
       " 'children',\n",
       " 'childrens',\n",
       " 'chills',\n",
       " 'chilly',\n",
       " 'chimp',\n",
       " 'chodorov',\n",
       " 'choice',\n",
       " 'choices',\n",
       " 'choked',\n",
       " 'chosen',\n",
       " 'chow',\n",
       " 'christmas',\n",
       " 'christopher',\n",
       " 'church',\n",
       " 'cinema',\n",
       " 'cinematic',\n",
       " 'cinematographers',\n",
       " 'cinematography',\n",
       " 'circumstances',\n",
       " 'class',\n",
       " 'classic',\n",
       " 'classical',\n",
       " 'clear',\n",
       " 'clearly',\n",
       " 'clever',\n",
       " 'cliche',\n",
       " 'clichés',\n",
       " 'clients',\n",
       " 'cliff',\n",
       " 'climax',\n",
       " 'close',\n",
       " 'closed',\n",
       " 'clothes',\n",
       " 'club',\n",
       " 'co',\n",
       " 'coach',\n",
       " 'coal',\n",
       " 'coastal',\n",
       " 'coaster',\n",
       " 'coherent',\n",
       " 'cold',\n",
       " 'cole',\n",
       " 'collect',\n",
       " 'collective',\n",
       " 'colored',\n",
       " 'colorful',\n",
       " 'colours',\n",
       " 'columbo',\n",
       " 'come',\n",
       " 'comedic',\n",
       " 'comedy',\n",
       " 'comes',\n",
       " 'comfortable',\n",
       " 'comforting',\n",
       " 'comical',\n",
       " 'coming',\n",
       " 'commands',\n",
       " 'comment',\n",
       " 'commentary',\n",
       " 'commented',\n",
       " 'comments',\n",
       " 'commercial',\n",
       " 'community',\n",
       " 'company',\n",
       " 'compelling',\n",
       " 'competent',\n",
       " 'complete',\n",
       " 'completed',\n",
       " 'completely',\n",
       " 'complex',\n",
       " 'complexity',\n",
       " 'composed',\n",
       " 'composition',\n",
       " 'comprehensible',\n",
       " 'compromise',\n",
       " 'computer',\n",
       " 'concentrate',\n",
       " 'conception',\n",
       " 'conceptually',\n",
       " 'concerning',\n",
       " 'concerns',\n",
       " 'concert',\n",
       " 'conclusion',\n",
       " 'condescends',\n",
       " 'confidence',\n",
       " 'configuration',\n",
       " 'confirm',\n",
       " 'conflict',\n",
       " 'confuses',\n",
       " 'confusing',\n",
       " 'connections',\n",
       " 'connery',\n",
       " 'connor',\n",
       " 'conrad',\n",
       " 'consequences',\n",
       " 'consider',\n",
       " 'considerable',\n",
       " 'considered',\n",
       " 'considering',\n",
       " 'considers',\n",
       " 'consistent',\n",
       " 'consolations',\n",
       " 'constant',\n",
       " 'constantine',\n",
       " 'constructed',\n",
       " 'contained',\n",
       " 'containing',\n",
       " 'contains',\n",
       " 'content',\n",
       " 'continually',\n",
       " 'continuation',\n",
       " 'continue',\n",
       " 'continuity',\n",
       " 'continuously',\n",
       " 'contract',\n",
       " 'contrast',\n",
       " 'contributing',\n",
       " 'contributory',\n",
       " 'contrived',\n",
       " 'control',\n",
       " 'controversy',\n",
       " 'convention',\n",
       " 'convey',\n",
       " 'convince',\n",
       " 'convincing',\n",
       " 'convoluted',\n",
       " 'cool',\n",
       " 'coppola',\n",
       " 'cords',\n",
       " 'core',\n",
       " 'corn',\n",
       " 'corny',\n",
       " 'correct',\n",
       " 'cost',\n",
       " 'costs',\n",
       " 'costumes',\n",
       " 'cotton',\n",
       " 'could',\n",
       " 'couple',\n",
       " 'course',\n",
       " 'court',\n",
       " 'courtroom',\n",
       " 'cover',\n",
       " 'cowardice',\n",
       " 'cox',\n",
       " 'crackles',\n",
       " 'crafted',\n",
       " 'crap',\n",
       " 'crash',\n",
       " 'crashed',\n",
       " 'crayon',\n",
       " 'crayons',\n",
       " 'crazy',\n",
       " 'create',\n",
       " 'created',\n",
       " 'creates',\n",
       " 'creative',\n",
       " 'creativity',\n",
       " 'creature',\n",
       " 'credible',\n",
       " 'credit',\n",
       " 'credits',\n",
       " 'crew',\n",
       " 'crime',\n",
       " 'crisp',\n",
       " 'critic',\n",
       " 'critical',\n",
       " 'crocdodile',\n",
       " 'crocs',\n",
       " 'cross',\n",
       " 'crowd',\n",
       " 'crowe',\n",
       " 'cruel',\n",
       " 'cruise',\n",
       " 'cry',\n",
       " 'cult',\n",
       " 'culture',\n",
       " 'curtain',\n",
       " 'custer',\n",
       " 'cute',\n",
       " 'cutest',\n",
       " 'cutie',\n",
       " 'cutouts',\n",
       " 'cuts',\n",
       " 'cutting',\n",
       " 'dads',\n",
       " 'damian',\n",
       " 'damn',\n",
       " 'dance',\n",
       " 'dancing',\n",
       " 'dangerous',\n",
       " 'dark',\n",
       " 'darren',\n",
       " 'daughter',\n",
       " 'daughters',\n",
       " 'day',\n",
       " 'days',\n",
       " 'de',\n",
       " 'dead',\n",
       " 'deadly',\n",
       " 'deadpan',\n",
       " 'deal',\n",
       " 'dealt',\n",
       " 'death',\n",
       " 'debated',\n",
       " 'debbie',\n",
       " 'debits',\n",
       " 'debut',\n",
       " 'decay',\n",
       " 'decent',\n",
       " 'decidely',\n",
       " 'decipher',\n",
       " 'decisions',\n",
       " 'dedication',\n",
       " 'dee',\n",
       " 'deep',\n",
       " 'deeply',\n",
       " 'defensemen',\n",
       " 'defined',\n",
       " 'definitely',\n",
       " 'delete',\n",
       " 'delight',\n",
       " 'delightful',\n",
       " 'delights',\n",
       " 'deliver',\n",
       " 'delivered',\n",
       " 'delivering',\n",
       " 'delivers',\n",
       " 'dependant',\n",
       " 'depending',\n",
       " 'depends',\n",
       " 'depicted',\n",
       " 'depicts',\n",
       " 'depressing',\n",
       " 'depth',\n",
       " 'derivative',\n",
       " 'describe',\n",
       " 'describes',\n",
       " 'desert',\n",
       " 'deserved',\n",
       " 'deserves',\n",
       " 'deserving',\n",
       " 'design',\n",
       " 'designed',\n",
       " 'designer',\n",
       " 'desperately',\n",
       " 'desperation',\n",
       " 'despised',\n",
       " 'despite',\n",
       " 'destroy',\n",
       " 'detailing',\n",
       " 'details',\n",
       " 'develop',\n",
       " 'development',\n",
       " 'developments',\n",
       " 'di',\n",
       " 'diabetic',\n",
       " 'dialog',\n",
       " 'dialogs',\n",
       " 'dialogue',\n",
       " 'diaper',\n",
       " 'dickens',\n",
       " 'difference',\n",
       " 'different',\n",
       " 'dignity',\n",
       " 'dimensional',\n",
       " 'direct',\n",
       " 'directed',\n",
       " 'directing',\n",
       " 'direction',\n",
       " 'director',\n",
       " 'directorial',\n",
       " 'directors',\n",
       " 'disappointed',\n",
       " 'disappointing',\n",
       " 'disappointment',\n",
       " 'disaster',\n",
       " 'disbelief',\n",
       " 'discomfort',\n",
       " 'discovering',\n",
       " 'discovery',\n",
       " 'disgrace',\n",
       " 'disgusting',\n",
       " 'dislike',\n",
       " 'disliked',\n",
       " 'disney',\n",
       " 'disparate',\n",
       " 'distant',\n",
       " 'distinction',\n",
       " 'distorted',\n",
       " 'distract',\n",
       " 'disturbing',\n",
       " 'diving',\n",
       " 'doctor',\n",
       " 'documentaries',\n",
       " 'documentary',\n",
       " 'dodge',\n",
       " 'dogs',\n",
       " 'dollars',\n",
       " 'dominated',\n",
       " 'done',\n",
       " 'donlevy',\n",
       " 'dont',\n",
       " 'doomed',\n",
       " 'dosen',\n",
       " 'doubt',\n",
       " 'downs',\n",
       " 'dozen',\n",
       " 'dr',\n",
       " 'dracula',\n",
       " 'draft',\n",
       " 'drag',\n",
       " 'drago',\n",
       " 'drama',\n",
       " 'dramatic',\n",
       " 'drawings',\n",
       " 'drawn',\n",
       " 'dream',\n",
       " 'dreams',\n",
       " 'dreary',\n",
       " 'dribble',\n",
       " 'drift',\n",
       " 'drive',\n",
       " 'drooling',\n",
       " 'dropped',\n",
       " 'dry',\n",
       " 'due',\n",
       " 'duet',\n",
       " 'dull',\n",
       " 'dumb',\n",
       " 'dumbest',\n",
       " 'duper',\n",
       " 'duris',\n",
       " 'dustin',\n",
       " 'dvd',\n",
       " 'dwight',\n",
       " 'dysfunction',\n",
       " 'earlier',\n",
       " 'early',\n",
       " 'earth',\n",
       " 'easily',\n",
       " 'easy',\n",
       " 'eating',\n",
       " 'ebay',\n",
       " 'ebola',\n",
       " 'eccleston',\n",
       " 'ed',\n",
       " 'edge',\n",
       " 'editing',\n",
       " 'edition',\n",
       " 'educational',\n",
       " 'edward',\n",
       " 'effect',\n",
       " 'effective',\n",
       " 'effects',\n",
       " 'effort',\n",
       " 'efforts',\n",
       " 'egotism',\n",
       " 'eighth',\n",
       " 'eiko',\n",
       " 'either',\n",
       " 'elaborately',\n",
       " 'elderly',\n",
       " 'elegant',\n",
       " 'element',\n",
       " 'elias',\n",
       " 'eloquently',\n",
       " 'else',\n",
       " 'elsewhere',\n",
       " 'embarrassed',\n",
       " 'embarrassing',\n",
       " 'embassy',\n",
       " 'emerge',\n",
       " 'emilio',\n",
       " 'emily',\n",
       " 'emoting',\n",
       " 'emotion',\n",
       " 'emotionally',\n",
       " 'emotions',\n",
       " 'emperor',\n",
       " 'empowerment',\n",
       " 'emptiness',\n",
       " 'empty',\n",
       " 'en',\n",
       " 'enchanting',\n",
       " 'end',\n",
       " 'endearing',\n",
       " 'ended',\n",
       " 'ending',\n",
       " 'endlessly',\n",
       " 'ends',\n",
       " 'energetic',\n",
       " 'energy',\n",
       " 'engaging',\n",
       " 'english',\n",
       " 'enhanced',\n",
       " 'enjoy',\n",
       " 'enjoyable',\n",
       " 'enjoyed',\n",
       " 'enjoyment',\n",
       " 'enough',\n",
       " 'enter',\n",
       " 'enterprise',\n",
       " 'entertained',\n",
       " 'entertaining',\n",
       " 'entire',\n",
       " 'entirely',\n",
       " 'entrance',\n",
       " 'episode',\n",
       " 'episodes',\n",
       " 'equivalent',\n",
       " 'era',\n",
       " 'errol',\n",
       " 'errors',\n",
       " 'escalating',\n",
       " 'escapism',\n",
       " 'especially',\n",
       " 'essence',\n",
       " 'establish',\n",
       " 'established',\n",
       " 'estate',\n",
       " 'estevez',\n",
       " 'etc',\n",
       " 'european',\n",
       " 'evaluate',\n",
       " 'even',\n",
       " 'events',\n",
       " 'ever',\n",
       " 'every',\n",
       " 'everybody',\n",
       " 'everyone',\n",
       " 'everything',\n",
       " 'everywhere',\n",
       " 'evidently',\n",
       " 'evil',\n",
       " 'evinced',\n",
       " 'evokes',\n",
       " 'exactly',\n",
       " 'exaggerating',\n",
       " 'example',\n",
       " 'excellent',\n",
       " 'excellently',\n",
       " 'except',\n",
       " 'exceptional',\n",
       " 'exceptionally',\n",
       " 'excerpts',\n",
       " 'excessively',\n",
       " 'exchange',\n",
       " 'exciting',\n",
       " 'excruciatingly',\n",
       " 'excuse',\n",
       " 'excuses',\n",
       " 'executed',\n",
       " 'exemplars',\n",
       " 'existent',\n",
       " 'existential',\n",
       " 'expansive',\n",
       " 'expect',\n",
       " 'expectations',\n",
       " 'expected',\n",
       " 'expecting',\n",
       " 'experience',\n",
       " 'experiences',\n",
       " 'expert',\n",
       " 'explain',\n",
       " 'explains',\n",
       " 'explanation',\n",
       " 'exploit',\n",
       " 'explorations',\n",
       " 'explosion',\n",
       " 'expression',\n",
       " 'exquisite',\n",
       " 'extant',\n",
       " 'exteriors',\n",
       " 'extraneous',\n",
       " 'extraordinary',\n",
       " 'extremely',\n",
       " 'eye',\n",
       " 'eyes',\n",
       " 'fabulous',\n",
       " 'face',\n",
       " 'faces',\n",
       " 'facial',\n",
       " 'facing',\n",
       " 'fact',\n",
       " 'factory',\n",
       " 'failed',\n",
       " 'fails',\n",
       " 'fair',\n",
       " 'fairly',\n",
       " 'faithful',\n",
       " 'fall',\n",
       " 'falling',\n",
       " 'falls',\n",
       " 'falsely',\n",
       " 'falwell',\n",
       " 'fame',\n",
       " 'famed',\n",
       " 'family',\n",
       " 'famous',\n",
       " 'fan',\n",
       " 'fanciful',\n",
       " 'fans',\n",
       " 'fantastic',\n",
       " 'fantasy',\n",
       " 'far',\n",
       " 'farce',\n",
       " 'fare',\n",
       " 'fascinated',\n",
       " 'fascinating',\n",
       " 'fascination',\n",
       " 'fashioned',\n",
       " 'fast',\n",
       " 'faster',\n",
       " 'fat',\n",
       " 'father',\n",
       " 'faultless',\n",
       " 'fausa',\n",
       " 'faux',\n",
       " 'favorite',\n",
       " 'favourite',\n",
       " 'fear',\n",
       " 'feature',\n",
       " 'features',\n",
       " 'feel',\n",
       " 'feeling',\n",
       " 'feelings',\n",
       " 'feet',\n",
       " 'feisty',\n",
       " 'fellowes',\n",
       " 'felt',\n",
       " 'female',\n",
       " 'females',\n",
       " 'ferry',\n",
       " 'fest',\n",
       " 'fi',\n",
       " 'fields',\n",
       " 'fifteen',\n",
       " 'fifties',\n",
       " 'fill',\n",
       " 'film',\n",
       " 'filmed',\n",
       " 'filmiing',\n",
       " 'filmmaker',\n",
       " 'filmography',\n",
       " 'films',\n",
       " 'final',\n",
       " 'finale',\n",
       " 'finally',\n",
       " 'financial',\n",
       " 'find',\n",
       " 'finds',\n",
       " 'fine',\n",
       " 'finest',\n",
       " 'fingernails',\n",
       " 'finished',\n",
       " 'fire',\n",
       " 'first',\n",
       " 'fish',\n",
       " 'fishnet',\n",
       " 'fisted',\n",
       " 'fit',\n",
       " 'five',\n",
       " 'flag',\n",
       " 'flakes',\n",
       " 'flaming',\n",
       " 'flashbacks',\n",
       " 'flat',\n",
       " 'flaw',\n",
       " 'flawed',\n",
       " 'flaws',\n",
       " 'fleshed',\n",
       " ...]"
      ]
     },
     "execution_count": 38,
     "metadata": {},
     "output_type": "execute_result"
    }
   ],
   "source": [
    "most_frequent_words_sw['dictionary']"
   ]
  },
  {
   "cell_type": "markdown",
   "metadata": {},
   "source": [
    "### Avec une pipeline"
   ]
  },
  {
   "cell_type": "code",
   "execution_count": 39,
   "metadata": {},
   "outputs": [],
   "source": [
    "from sklearn.pipeline import Pipeline\n",
    "text_clf = Pipeline([('vect', CountVectorizer()), ('tfidf', TfidfTransformer()), ('clf', SGDClassifier(loss='hinge', penalty='l2',\\\n",
    "                           alpha=1e-3, random_state=42,\\\n",
    "                           max_iter=5, tol=None)),])"
   ]
  },
  {
   "cell_type": "code",
   "execution_count": 40,
   "metadata": {},
   "outputs": [
    {
     "data": {
      "text/plain": [
       "0.9825970548862115"
      ]
     },
     "execution_count": 40,
     "metadata": {},
     "output_type": "execute_result"
    }
   ],
   "source": [
    "text_clf.fit(X,df['label'])#\n",
    "accuracy_score(text_clf.predict(X),df['label'])"
   ]
  },
  {
   "cell_type": "markdown",
   "metadata": {},
   "source": [
    "## Jeu de données complet"
   ]
  },
  {
   "cell_type": "markdown",
   "metadata": {},
   "source": [
    "Dataset of 25,000 movies reviews from IMDB, labeled by sentiment (positive/negative). Reviews have been preprocessed, and each review is encoded as a sequence of word indexes (integers). For convenience, words are indexed by overall frequency in the dataset, so that for instance the integer \"3\" encodes the 3rd most frequent word in the data. This allows for quick filtering operations such as: \"only consider the top 10,000 most common words, but eliminate the top 20 most common words\"."
   ]
  },
  {
   "cell_type": "code",
   "execution_count": 41,
   "metadata": {},
   "outputs": [],
   "source": [
    "(X_train, y_train), (X_test, y_test) = imdb.load_data()"
   ]
  },
  {
   "cell_type": "code",
   "execution_count": null,
   "metadata": {},
   "outputs": [],
   "source": []
  },
  {
   "cell_type": "code",
   "execution_count": 42,
   "metadata": {},
   "outputs": [
    {
     "data": {
      "text/plain": [
       "<matplotlib.axes._subplots.AxesSubplot at 0x2480035cb00>"
      ]
     },
     "execution_count": 42,
     "metadata": {},
     "output_type": "execute_result"
    },
    {
     "data": {
      "image/png": "[encoded data removed]",
      "text/plain": [
       "<Figure size 432x288 with 1 Axes>"
      ]
     },
     "metadata": {
      "needs_background": "light"
     },
     "output_type": "display_data"
    }
   ],
   "source": [
    "np.unique(y_train)\n",
    "sns.barplot(np.unique(y_train),df.groupby('label').count().values[:,0])"
   ]
  },
  {
   "cell_type": "markdown",
   "metadata": {},
   "source": [
    "### Les textes ont été hashés"
   ]
  },
  {
   "cell_type": "code",
   "execution_count": 43,
   "metadata": {},
   "outputs": [
    {
     "data": {
      "text/plain": [
       "array([list([1, 14, 22, 16, 43, 530, 973, 1622, 1385, 65, 458, 4468, 66, 3941, 4, 173, 36, 256, 5, 25, 100, 43, 838, 112, 50, 670, 22665, 9, 35, 480, 284, 5, 150, 4, 172, 112, 167, 21631, 336, 385, 39, 4, 172, 4536, 1111, 17, 546, 38, 13, 447, 4, 192, 50, 16, 6, 147, 2025, 19, 14, 22, 4, 1920, 4613, 469, 4, 22, 71, 87, 12, 16, 43, 530, 38, 76, 15, 13, 1247, 4, 22, 17, 515, 17, 12, 16, 626, 18, 19193, 5, 62, 386, 12, 8, 316, 8, 106, 5, 4, 2223, 5244, 16, 480, 66, 3785, 33, 4, 130, 12, 16, 38, 619, 5, 25, 124, 51, 36, 135, 48, 25, 1415, 33, 6, 22, 12, 215, 28, 77, 52, 5, 14, 407, 16, 82, 10311, 8, 4, 107, 117, 5952, 15, 256, 4, 31050, 7, 3766, 5, 723, 36, 71, 43, 530, 476, 26, 400, 317, 46, 7, 4, 12118, 1029, 13, 104, 88, 4, 381, 15, 297, 98, 32, 2071, 56, 26, 141, 6, 194, 7486, 18, 4, 226, 22, 21, 134, 476, 26, 480, 5, 144, 30, 5535, 18, 51, 36, 28, 224, 92, 25, 104, 4, 226, 65, 16, 38, 1334, 88, 12, 16, 283, 5, 16, 4472, 113, 103, 32, 15, 16, 5345, 19, 178, 32]),\n",
       "       list([1, 194, 1153, 194, 8255, 78, 228, 5, 6, 1463, 4369, 5012, 134, 26, 4, 715, 8, 118, 1634, 14, 394, 20, 13, 119, 954, 189, 102, 5, 207, 110, 3103, 21, 14, 69, 188, 8, 30, 23, 7, 4, 249, 126, 93, 4, 114, 9, 2300, 1523, 5, 647, 4, 116, 9, 35, 8163, 4, 229, 9, 340, 1322, 4, 118, 9, 4, 130, 4901, 19, 4, 1002, 5, 89, 29, 952, 46, 37, 4, 455, 9, 45, 43, 38, 1543, 1905, 398, 4, 1649, 26, 6853, 5, 163, 11, 3215, 10156, 4, 1153, 9, 194, 775, 7, 8255, 11596, 349, 2637, 148, 605, 15358, 8003, 15, 123, 125, 68, 23141, 6853, 15, 349, 165, 4362, 98, 5, 4, 228, 9, 43, 36893, 1157, 15, 299, 120, 5, 120, 174, 11, 220, 175, 136, 50, 9, 4373, 228, 8255, 5, 25249, 656, 245, 2350, 5, 4, 9837, 131, 152, 491, 18, 46151, 32, 7464, 1212, 14, 9, 6, 371, 78, 22, 625, 64, 1382, 9, 8, 168, 145, 23, 4, 1690, 15, 16, 4, 1355, 5, 28, 6, 52, 154, 462, 33, 89, 78, 285, 16, 145, 95])],\n",
       "      dtype=object)"
      ]
     },
     "execution_count": 43,
     "metadata": {},
     "output_type": "execute_result"
    }
   ],
   "source": [
    "X_train[0:2]"
   ]
  },
  {
   "cell_type": "markdown",
   "metadata": {},
   "source": [
    "### On essaie de reconstruire le 6-ième texte"
   ]
  },
  {
   "cell_type": "code",
   "execution_count": 131,
   "metadata": {},
   "outputs": [
    {
     "ename": "NameError",
     "evalue": "name 'id_to_word' is not defined",
     "output_type": "error",
     "traceback": [
      "\u001b[1;31m---------------------------------------------------------------------------\u001b[0m",
      "\u001b[1;31mNameError\u001b[0m                                 Traceback (most recent call last)",
      "\u001b[1;32m<ipython-input-131-9fa14f021ee3>\u001b[0m in \u001b[0;36m<module>\u001b[1;34m\u001b[0m\n\u001b[0;32m     10\u001b[0m \u001b[1;33m\u001b[0m\u001b[0m\n\u001b[0;32m     11\u001b[0m \u001b[0mdico\u001b[0m \u001b[1;33m=\u001b[0m \u001b[1;33m{\u001b[0m\u001b[0mvalue\u001b[0m\u001b[1;33m-\u001b[0m\u001b[1;36m3\u001b[0m\u001b[1;33m:\u001b[0m\u001b[0mkey\u001b[0m \u001b[1;32mfor\u001b[0m \u001b[0mkey\u001b[0m\u001b[1;33m,\u001b[0m\u001b[0mvalue\u001b[0m \u001b[1;32min\u001b[0m \u001b[0mword_to_id\u001b[0m\u001b[1;33m.\u001b[0m\u001b[0mitems\u001b[0m\u001b[1;33m(\u001b[0m\u001b[1;33m)\u001b[0m\u001b[1;33m}\u001b[0m\u001b[1;33m\u001b[0m\u001b[0m\n\u001b[1;32m---> 12\u001b[1;33m \u001b[0mprint\u001b[0m\u001b[1;33m(\u001b[0m\u001b[1;34m' '\u001b[0m\u001b[1;33m.\u001b[0m\u001b[0mjoin\u001b[0m\u001b[1;33m(\u001b[0m\u001b[0mid_to_word\u001b[0m\u001b[1;33m[\u001b[0m\u001b[0mid\u001b[0m\u001b[1;33m]\u001b[0m \u001b[1;32mfor\u001b[0m \u001b[0mid\u001b[0m \u001b[1;32min\u001b[0m \u001b[0mX_train\u001b[0m\u001b[1;33m[\u001b[0m\u001b[1;36m0\u001b[0m\u001b[1;33m]\u001b[0m \u001b[1;33m)\u001b[0m\u001b[1;33m)\u001b[0m\u001b[1;33m\u001b[0m\u001b[0m\n\u001b[0m",
      "\u001b[1;32m<ipython-input-131-9fa14f021ee3>\u001b[0m in \u001b[0;36m<genexpr>\u001b[1;34m(.0)\u001b[0m\n\u001b[0;32m     10\u001b[0m \u001b[1;33m\u001b[0m\u001b[0m\n\u001b[0;32m     11\u001b[0m \u001b[0mdico\u001b[0m \u001b[1;33m=\u001b[0m \u001b[1;33m{\u001b[0m\u001b[0mvalue\u001b[0m\u001b[1;33m-\u001b[0m\u001b[1;36m3\u001b[0m\u001b[1;33m:\u001b[0m\u001b[0mkey\u001b[0m \u001b[1;32mfor\u001b[0m \u001b[0mkey\u001b[0m\u001b[1;33m,\u001b[0m\u001b[0mvalue\u001b[0m \u001b[1;32min\u001b[0m \u001b[0mword_to_id\u001b[0m\u001b[1;33m.\u001b[0m\u001b[0mitems\u001b[0m\u001b[1;33m(\u001b[0m\u001b[1;33m)\u001b[0m\u001b[1;33m}\u001b[0m\u001b[1;33m\u001b[0m\u001b[0m\n\u001b[1;32m---> 12\u001b[1;33m \u001b[0mprint\u001b[0m\u001b[1;33m(\u001b[0m\u001b[1;34m' '\u001b[0m\u001b[1;33m.\u001b[0m\u001b[0mjoin\u001b[0m\u001b[1;33m(\u001b[0m\u001b[0mid_to_word\u001b[0m\u001b[1;33m[\u001b[0m\u001b[0mid\u001b[0m\u001b[1;33m]\u001b[0m \u001b[1;32mfor\u001b[0m \u001b[0mid\u001b[0m \u001b[1;32min\u001b[0m \u001b[0mX_train\u001b[0m\u001b[1;33m[\u001b[0m\u001b[1;36m0\u001b[0m\u001b[1;33m]\u001b[0m \u001b[1;33m)\u001b[0m\u001b[1;33m)\u001b[0m\u001b[1;33m\u001b[0m\u001b[0m\n\u001b[0m",
      "\u001b[1;31mNameError\u001b[0m: name 'id_to_word' is not defined"
     ]
    }
   ],
   "source": [
    "NUM_WORDS=1000 # only use top 1000 words\n",
    "INDEX_FROM=3   # word index offset\n",
    "\n",
    "\n",
    "word_to_id = imdb.get_word_index()\n",
    "word_to_id = {k:(v+INDEX_FROM) for k,v in word_to_id.items()}\n",
    "word_to_id[\"<PAD>\"] = 0\n",
    "word_to_id[\"<START>\"] = 1\n",
    "word_to_id[\"<UNK>\"] = 2\n",
    "\n",
    "dico = {value-3:key for key,value in word_to_id.items()}\n",
    "print(' '.join(id_to_word[id] for id in X_train[0] ))"
   ]
  },
  {
   "cell_type": "code",
   "execution_count": 45,
   "metadata": {},
   "outputs": [],
   "source": [
    "dico = {}\n",
    "for word, index in imdb.get_word_index().items():\n",
    "    dico[index] = word\n",
    "# for i in range(1, 11):\n",
    "#    print(i, dico[i])"
   ]
  },
  {
   "cell_type": "code",
   "execution_count": 61,
   "metadata": {},
   "outputs": [],
   "source": [
    "import string\n",
    "from nltk.stem import PorterStemmer\n",
    "def sanitizeee(word):\n",
    "    return PorterStemmer().stem(''.join(i for i in dico[word] if i not in string.punctuation).lower())\n",
    "\n",
    "from textblob import Word\n",
    "def sanitize(word):\n",
    "    return Word(''.join(i for i in dico[word] if i not in string.punctuation).lower()).lemmatize()\n",
    "\n",
    "from nltk.stem import WordNetLemmatizer\n",
    "def sanitize(word):\n",
    "    base = ''.join(i for i in (dico[word] if isinstance(word, int) else word) if i not in string.punctuation).lower()\n",
    "    words = list((WordNetLemmatizer().lemmatize(base, mode) for mode in ('a', 's', 'r', 'n', 'v')))\n",
    "    # If verb detected, it's a verb\n",
    "    if words[-1] != base:\n",
    "        return words[-1]\n",
    "    if len(set(words)) > 1:\n",
    "        return min((i for i in words if i != base), key=len)\n",
    "    return min(words, key=len)"
   ]
  },
  {
   "cell_type": "code",
   "execution_count": 62,
   "metadata": {},
   "outputs": [
    {
     "data": {
      "text/plain": [
       "'have'"
      ]
     },
     "execution_count": 62,
     "metadata": {},
     "output_type": "execute_result"
    }
   ],
   "source": [
    "sanitize('h\\'as')"
   ]
  },
  {
   "cell_type": "code",
   "execution_count": 48,
   "metadata": {},
   "outputs": [],
   "source": [
    "dictionnaire = dict((i, sanitize(i)) for i in dico)"
   ]
  },
  {
   "cell_type": "code",
   "execution_count": 49,
   "metadata": {},
   "outputs": [
    {
     "name": "stdout",
     "output_type": "stream",
     "text": [
      "62592\n",
      "88584\n"
     ]
    }
   ],
   "source": [
    "print(len(set(dictionnaire.values())))\n",
    "print(len(set(dico.values())))"
   ]
  },
  {
   "cell_type": "code",
   "execution_count": 50,
   "metadata": {
    "scrolled": true
   },
   "outputs": [
    {
     "name": "stdout",
     "output_type": "stream",
     "text": [
      "64841\tkindling\t\tkindle\n",
      "79151\tdaviau\t\tdaviau\n",
      "38715\tsweetie\t\tsweetie\n",
      "21757\tinterface\t\tinterface\n",
      "28077\tstefano\t\tstefano\n",
      "48396\trelocates\t\trelocate\n",
      "5375\tencourage\t\tencourage\n",
      "26837\twacked\t\twacked\n",
      "36660\tymca\t\tymca\n",
      "62105\tfishing'\t\tfish\n",
      "82917\tbusness\t\tbusness\n",
      "4860\tmuslim\t\tmuslim\n",
      "244\trather\t\trather\n",
      "71169\tjuncos\t\tjunco\n",
      "19787\tsitter\t\tsitter\n",
      "57253\tsugared\t\tsugar\n",
      "14566\tflirts\t\tflirt\n",
      "20103\tmonogram\t\tmonogram\n",
      "32080\tbozos\t\tbozo\n",
      "23383\treeves'\t\treeve\n"
     ]
    }
   ],
   "source": [
    "import random\n",
    "for i in range(1, 21):\n",
    "    word = random.randint(1, len(dico))\n",
    "    print('%s\\t%s\\t\\t%s' % (word, dico[word], sanitize(word)))"
   ]
  },
  {
   "cell_type": "code",
   "execution_count": 51,
   "metadata": {},
   "outputs": [],
   "source": [
    "def getKeysByValue(dictOfElements, valueToFind):\n",
    "    listOfKeys = list()\n",
    "    listOfItems = dictOfElements.items()\n",
    "    for item  in listOfItems:\n",
    "        if item[1] == valueToFind:\n",
    "            listOfKeys.append(item[0])\n",
    "    print(listOfKeys)\n"
   ]
  },
  {
   "cell_type": "code",
   "execution_count": 52,
   "metadata": {},
   "outputs": [],
   "source": [
    "for word_num in X_train[5]:\n",
    "    # getKeysByValue(imdb.get_word_index(), word_num)\n",
    "    pass # print(dico[word_num])"
   ]
  },
  {
   "cell_type": "code",
   "execution_count": 53,
   "metadata": {},
   "outputs": [
    {
     "data": {
      "text/plain": [
       "'for line in range(X_train.shape[0]):\\n    X_train[line] = [i for i in X_train[line] if dico.get(i) not in stop]\\n\\nfor line in X_train:\\n    for item in line:\\n        assert dico.get(item) not in stop, dico.get(item)\\n'"
      ]
     },
     "execution_count": 53,
     "metadata": {},
     "output_type": "execute_result"
    }
   ],
   "source": [
    "X_train.shape\n",
    "\"\"\"for line in range(X_train.shape[0]):\n",
    "    X_train[line] = [i for i in X_train[line] if dico.get(i) not in stop]\n",
    "\n",
    "for line in X_train:\n",
    "    for item in line:\n",
    "        assert dico.get(item) not in stop, dico.get(item)\n",
    "\"\"\"\n"
   ]
  },
  {
   "cell_type": "code",
   "execution_count": 54,
   "metadata": {},
   "outputs": [],
   "source": [
    "def frequence_():\n",
    "    count = {}\n",
    "    for line in X_train:\n",
    "        for i in line:\n",
    "            j = dictionnaire.get(i)\n",
    "            count.setdefault(j, 0)\n",
    "            count[j] += 1\n",
    "    return count\n",
    "\n",
    "def frequence(index):\n",
    "    count = 0\n",
    "    for line in X_train:\n",
    "        count += line.count(index)\n",
    "    return count\n",
    "\n",
    "plus = frequence_()\n",
    "peu_frequents = set(index for index in dictionnaire if plus.get(dictionnaire[index]) < 2)\n",
    "# print(plus)\n",
    "def affiche_derniers(n):\n",
    "    for i in range(len(dictionnaire), max(1, len(dictionnaire) - n - 1), -1):\n",
    "        print('%s: %r' % (i, dictionnaire[i]), frequence(i))\n",
    "def affiche_premiers(n):\n",
    "    for i in range(1, min(n + 1, len(dictionnaire))):\n",
    "        print('%s: %s' % (i, dictionnaire[i]), frequence(i))\n",
    "# affiche_derniers(20)"
   ]
  },
  {
   "cell_type": "code",
   "execution_count": 132,
   "metadata": {},
   "outputs": [
    {
     "name": "stdout",
     "output_type": "stream",
     "text": [
      "{'an', 'i', 'him', 'no', 'by', 'his', 'nor', 'hadnt', 'with', 'both', 'o', 'them', 'out', 'our', 'your', 'on', 'when', 'how', 'few', 'too', 'now', 'shant', 'youll', 'what', 'at', 'm', 'youve', 'until', 'they', 'shes', 'mightn', 'while', 'havent', 'mustn', 'himself', 'theirs', 'wasnt', 'you', 'y', 'aren', 'then', 'dont', 'shouldve', 'her', 'into', 'ain', 'where', 'more', 'couldnt', 'whom', 'should', 'll', 'werent', 'here', 'for', 'will', 'wasn', 'above', 'if', 'or', 't', 'do', 'there', 'have', 'arent', 'needn', 'shouldn', 'shouldnt', 'it', 'yourselves', 'hasn', 'that', 'not', 'same', 'against', 'before', 'mightnt', 'far', 'only', 'mustnt', 'he', 'wouldnt', 'couldn', 'why', 'themselves', 'than', 'hasnt', 'can', 'haven', 'weren', 'down', 'but', 'about', 've', 'which', 'a', 'to', 'ma', 'such', 'again', 'don', 'just', 'their', 'd', 'all', 'youd', 'ours', 'ourselves', 'doesn', 'after', 'hadn', 'this', 'youre', 's', 'off', 'between', 'those', 'itself', 'who', 'she', 'thatll', 'isnt', 'myself', 'because', 'under', 'through', 're', 'yourself', 'didnt', 'other', 'so', 'herself', 'in', 'me', 'my', 'we', 'of', 'some', 'wont', 'win', 'up', 'be', 'over', 'shan', 'these', 'once', 'below', 'wouldn', 'isn', 'own', 'from', 'doesnt', 'the', 'and', 'didn', 'each', 'yours', 'during', 'very', 'any', 'hers', 'most', 'neednt'}\n"
     ]
    }
   ],
   "source": [
    "sanitized_stop = set(sanitize(i) for i in stop)\n",
    "print(sanitized_stop)\n",
    "def transforme(X):\n",
    "    \"\"\"Transforme une matrice d'indices en une liste de chaînes de caractères.\n",
    "    Utile pour pouvoir les vectoriser\"\"\"\n",
    "    return [' '.join(dictionnaire.get(i, '') for i in ligne if i > 20 and i not in peu_frequents and dictionnaire.get(i, '') not in sanitized_stop) for ligne in X]\n",
    "\n",
    "def transforme(X):\n",
    "    \"\"\"Transforme une matrice d'indices en une liste de chaînes de caractères.\n",
    "    Utile pour pouvoir les vectoriser (uniquement les 10000 premiers)\"\"\"\n",
    "    return [' '.join(dictionnaire.get(i, '') for i in ligne if i > 20 and i < 10000 and i not in peu_frequents and dictionnaire.get(i, '') not in sanitized_stop) for ligne in X]\n",
    "\n",
    "def vectoriser(xTrain, xTest):\n",
    "    vect = CountVectorizer()\n",
    "    train = transforme(xTrain)\n",
    "    test = transforme(xTest)\n",
    "    # vect.fit(test)\n",
    "    vect.fit(train)\n",
    "    return vect.transform(train), vect.transform(test)\n",
    "        "
   ]
  },
  {
   "cell_type": "code",
   "execution_count": 133,
   "metadata": {},
   "outputs": [],
   "source": [
    "# On transforme X_train et X_test en liste de chaînes de caractères\n",
    "train=transforme(X_train)\n",
    "test=transforme(X_test)\n",
    "#On vectorise X_train et X_test\n",
    "vect = CountVectorizer()\n",
    "vect.fit(train)\n",
    "vect.fit(test)\n",
    "X_train_mots=vect.transform(train)\n",
    "X_test_mots=vect.transform(test)"
   ]
  },
  {
   "cell_type": "code",
   "execution_count": 142,
   "metadata": {},
   "outputs": [
    {
     "data": {
      "text/plain": [
       "0.81452"
      ]
     },
     "execution_count": 142,
     "metadata": {},
     "output_type": "execute_result"
    }
   ],
   "source": [
    "NB_counts = MultinomialNB()\n",
    "NB_counts.fit(X=X_train_mots,y=y_train)\n",
    "accuracy_score(NB_counts.predict(X_test_mots),y_test)"
   ]
  },
  {
   "cell_type": "code",
   "execution_count": 135,
   "metadata": {},
   "outputs": [
    {
     "data": {
      "text/plain": [
       "(25000, 7143)"
      ]
     },
     "execution_count": 135,
     "metadata": {},
     "output_type": "execute_result"
    }
   ],
   "source": [
    "X_train_mots.shape"
   ]
  },
  {
   "cell_type": "code",
   "execution_count": 139,
   "metadata": {},
   "outputs": [],
   "source": [
    "length = 5000\n",
    "tf_idf_transf = transformer.fit_transform(X_train_mots) # \n",
    "tf_idf_transftest = transformer.fit_transform(X_test_mots)"
   ]
  },
  {
   "cell_type": "code",
   "execution_count": 140,
   "metadata": {},
   "outputs": [
    {
     "data": {
      "text/plain": [
       "0.71468"
      ]
     },
     "execution_count": 140,
     "metadata": {},
     "output_type": "execute_result"
    }
   ],
   "source": [
    "NB_tfidf = GaussianNB()\n",
    "NB_tfidf.fit(X=tf_idf_transf.toarray(),y=y_train) # \n",
    "accuracy_score(NB_tfidf.predict(tf_idf_transftest.toarray()),y_test) # .toarray()"
   ]
  },
  {
   "cell_type": "code",
   "execution_count": 141,
   "metadata": {},
   "outputs": [
    {
     "data": {
      "text/plain": [
       "0.8318"
      ]
     },
     "execution_count": 141,
     "metadata": {},
     "output_type": "execute_result"
    }
   ],
   "source": [
    "NB_logistic = SGDClassifier(loss='hinge', penalty='l2',\\\n",
    "                           alpha=1e-3, random_state=42,\\\n",
    "                           max_iter=5, tol=None)\n",
    "logistic_fit = NB_logistic.fit(X=tf_idf_transf.toarray(), y=y_train)\n",
    "accuracy_score(NB_logistic.predict(tf_idf_transftest.toarray()), y_test)"
   ]
  },
  {
   "cell_type": "code",
   "execution_count": 155,
   "metadata": {},
   "outputs": [
    {
     "data": {
      "text/plain": [
       "0.83304"
      ]
     },
     "execution_count": 155,
     "metadata": {},
     "output_type": "execute_result"
    }
   ],
   "source": [
    "from sklearn.pipeline import Pipeline\n",
    "text_clf = Pipeline([('vect', CountVectorizer()), ('tfidf', TfidfTransformer()), ('clf', SGDClassifier(loss='hinge', penalty='l2',\\\n",
    "                           alpha=1e-3, random_state=42,\\\n",
    "                           max_iter=5, tol=None)),])\n",
    "text_clf.fit(transforme(X_train), y_train)#\n",
    "accuracy_score(text_clf.predict(transforme(X_test)), y_test)"
   ]
  },
  {
   "cell_type": "code",
   "execution_count": 147,
   "metadata": {},
   "outputs": [
    {
     "data": {
      "text/plain": [
       "0.81996"
      ]
     },
     "execution_count": 147,
     "metadata": {},
     "output_type": "execute_result"
    }
   ],
   "source": [
    "from sklearn.linear_model import LogisticRegression,SGDClassifier\n",
    "logi = LogisticRegression()\n",
    "logi.fit(X_train_mots, y_train)\n",
    "y_preds = logi.predict(X_test_mots)\n",
    "accuracy_score(y_preds, y_test)"
   ]
  },
  {
   "cell_type": "code",
   "execution_count": 148,
   "metadata": {},
   "outputs": [
    {
     "data": {
      "text/plain": [
       "array([1, 0], dtype=int64)"
      ]
     },
     "execution_count": 148,
     "metadata": {},
     "output_type": "execute_result"
    }
   ],
   "source": [
    "logi.predict(vect.transform(transforme([[54505], [25731, 6176, 5715, 72883, 14819, 2314]])))"
   ]
  },
  {
   "cell_type": "code",
   "execution_count": 144,
   "metadata": {},
   "outputs": [
    {
     "name": "stdout",
     "output_type": "stream",
     "text": [
      "Taille du dictionnaire :  7170\n"
     ]
    },
    {
     "data": {
      "image/png": "[encoded data removed]",
      "text/plain": [
       "<Figure size 1080x576 with 1 Axes>"
      ]
     },
     "metadata": {
      "needs_background": "light"
     },
     "output_type": "display_data"
    }
   ],
   "source": [
    "count_vect, x = CountVectorizer(), transforme(X_train)\n",
    "X_sub_counts = count_vect.fit_transform(x)\n",
    "most_frequent_words_sub = most_frequent_words(count_vect, x)"
   ]
  },
  {
   "cell_type": "code",
   "execution_count": 156,
   "metadata": {},
   "outputs": [
    {
     "ename": "AttributeError",
     "evalue": "'Pipeline' object has no attribute 'coef_'",
     "output_type": "error",
     "traceback": [
      "\u001b[1;31m---------------------------------------------------------------------------\u001b[0m",
      "\u001b[1;31mAttributeError\u001b[0m                            Traceback (most recent call last)",
      "\u001b[1;32m<ipython-input-156-150db7076ea0>\u001b[0m in \u001b[0;36m<module>\u001b[1;34m\u001b[0m\n\u001b[1;32m----> 1\u001b[1;33m \u001b[0mprint\u001b[0m\u001b[1;33m(\u001b[0m\u001b[1;34m\"Mots avec le coeff le plus négatif : \"\u001b[0m\u001b[1;33m,\u001b[0m \u001b[0mmost_frequent_words_sub\u001b[0m\u001b[1;33m[\u001b[0m\u001b[1;34m'dictionary'\u001b[0m\u001b[1;33m]\u001b[0m\u001b[1;33m[\u001b[0m\u001b[0mnp\u001b[0m\u001b[1;33m.\u001b[0m\u001b[0margsort\u001b[0m\u001b[1;33m(\u001b[0m\u001b[0mtext_clf\u001b[0m\u001b[1;33m.\u001b[0m\u001b[0mcoef_\u001b[0m\u001b[1;33m)\u001b[0m\u001b[1;33m[\u001b[0m\u001b[1;36m0\u001b[0m\u001b[1;33m]\u001b[0m\u001b[1;33m[\u001b[0m\u001b[1;36m0\u001b[0m\u001b[1;33m]\u001b[0m\u001b[1;33m]\u001b[0m\u001b[1;33m)\u001b[0m\u001b[1;33m\u001b[0m\u001b[0m\n\u001b[0m\u001b[0;32m      2\u001b[0m \u001b[0mprint\u001b[0m\u001b[1;33m(\u001b[0m\u001b[1;34m\"Mots avec le coeff le plus positif : \"\u001b[0m\u001b[1;33m,\u001b[0m \u001b[0mmost_frequent_words_sub\u001b[0m\u001b[1;33m[\u001b[0m\u001b[1;34m'dictionary'\u001b[0m\u001b[1;33m]\u001b[0m\u001b[1;33m[\u001b[0m\u001b[0mnp\u001b[0m\u001b[1;33m.\u001b[0m\u001b[0margsort\u001b[0m\u001b[1;33m(\u001b[0m\u001b[0mtext_clf\u001b[0m\u001b[1;33m.\u001b[0m\u001b[0mcoef_\u001b[0m\u001b[1;33m)\u001b[0m\u001b[1;33m[\u001b[0m\u001b[1;36m0\u001b[0m\u001b[1;33m]\u001b[0m\u001b[1;33m[\u001b[0m\u001b[1;33m-\u001b[0m\u001b[1;36m1\u001b[0m\u001b[1;33m]\u001b[0m\u001b[1;33m]\u001b[0m\u001b[1;33m)\u001b[0m\u001b[1;33m\u001b[0m\u001b[0m\n",
      "\u001b[1;31mAttributeError\u001b[0m: 'Pipeline' object has no attribute 'coef_'"
     ]
    }
   ],
   "source": [
    "print(\"Mots avec le coeff le plus négatif : \", most_frequent_words_sub['dictionary'][np.argsort(text_clf.coef_)[0][0]])\n",
    "print(\"Mots avec le coeff le plus positif : \", most_frequent_words_sub['dictionary'][np.argsort(text_clf.coef_)[0][-1]])"
   ]
  },
  {
   "cell_type": "code",
   "execution_count": 110,
   "metadata": {},
   "outputs": [
    {
     "name": "stdout",
     "output_type": "stream",
     "text": [
      "[[29663, 29663, 29663, 29663], [49, 49]] [['wilkes', 'wilkes', 'wilkes', 'wilkes'], ['good', 'good']]\n",
      "['wilkes wilkes wilkes wilkes', 'good good']\n",
      "  (0, 29059)\t4\n",
      "  (1, 11136)\t2\n"
     ]
    },
    {
     "data": {
      "text/plain": [
       "array([1, 0], dtype=int64)"
      ]
     },
     "execution_count": 110,
     "metadata": {},
     "output_type": "execute_result"
    }
   ],
   "source": [
    "def test(*phrases):\n",
    "    phrases = [[imdb.get_word_index()[name] for name in sentense.split()] for sentense in phrases]\n",
    "    print(phrases, [[dictionnaire[i] for i in x] for x in phrases])\n",
    "    print(transforme(phrases))\n",
    "    print(vect.transform(transforme(phrases)))\n",
    "    return NB_counts.predict(vect.transform(transforme(phrases)))\n",
    "test('wilkes wilkes wilkes wilkes', 'good good')\n"
   ]
  },
  {
   "cell_type": "code",
   "execution_count": 130,
   "metadata": {},
   "outputs": [
    {
     "name": "stdout",
     "output_type": "stream",
     "text": [
      "['plot near ear recent halliburton cosmopolitan flick frank excellent sans past loyalty near really grief family four victim obvious family brave get say cosmopolitan comment orks entertain lamarr jam see vittorio castle portray dirty washington ursula minute station torment promise aragorn horn noir contract speed scream dirty full pacino dignity need men pitchfork popular really way behaviour sturdy standard certainly near beach make imbecilic fail ritt finish wear psycho cosmopolitan learn twice know ring epps seem fail visually posthumous extremely scoop ishtar like child easily thug simply must well although family many scene time seem de ignore boat morning like well force suggestion send history like story disappoint club finch watch husband reviewer although around finch except de impersonation available hour animal show optimism dead white splatter wait tenant attention documentary 3 eduardo accent committee ann come 9 place overseas scoop spradlin know mode bonus central one oh excellent cindy well people character chief leave lander easily lama historian speak today paul one actual could plot bias error grade marc go lander lot oliver dis picture tune feel ensue like different clichéd girl find sweet lander glory childrens moment like mix ishtar leave even cliche purchase money easily egypt lander glory indiscernible liam digress set actually easily like outdated sequel ishtar ryan make nook constant 90 let deep act make road spradlin conviction rural vhs share reach fact indiscernible polly spinal 90 book unfamiliar mercy karen mode funny white courage five vega wooden gender traditionally unfortunately 1968 year hokey ishtar true lander 3 ordinary oblivious auer deserve clone prairie creative come kung assume bias new incomprehensible episode much thats include cartoon certain root way cartoon enough way finish morning rukh cupboard express stunt black story actual strand though song cosmopolitan action action one joshua grass second way scoop lee warhol move figure bos snatch 9 propaganda resume scoop smoke splendid snow saturday result load think class think cop game make southern thing jolly gladys boyfriend tony make resident make even background']\n"
     ]
    },
    {
     "data": {
      "text/plain": [
       "array([1], dtype=int64)"
      ]
     },
     "execution_count": 130,
     "metadata": {},
     "output_type": "execute_result"
    }
   ],
   "source": [
    "review = transforme([X_test[2]])\n",
    "print(review)\n",
    "review_transformed = vect.transform(review)\n",
    "NB_counts.predict(review_transformed)"
   ]
  },
  {
   "cell_type": "code",
   "execution_count": null,
   "metadata": {},
   "outputs": [],
   "source": []
  }
 ],
 "metadata": {
  "kernelspec": {
   "display_name": "Python 3",
   "language": "python",
   "name": "python3"
  },
  "language_info": {
   "codemirror_mode": {
    "name": "ipython",
    "version": 3
   },
   "file_extension": ".py",
   "mimetype": "text/x-python",
   "name": "python",
   "nbconvert_exporter": "python",
   "pygments_lexer": "ipython3",
   "version": "3.7.0"
  }
 },
 "nbformat": 4,
 "nbformat_minor": 2
}
